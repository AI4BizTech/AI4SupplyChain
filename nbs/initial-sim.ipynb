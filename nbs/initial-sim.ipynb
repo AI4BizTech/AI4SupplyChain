{
 "cells": [
  {
   "cell_type": "code",
   "execution_count": 1,
   "metadata": {},
   "outputs": [],
   "source": [
    "from inventory_assistant.database.db import Database\n",
    "from inventory_assistant.simulation.engine import SimulationEngine"
   ]
  },
  {
   "cell_type": "code",
   "execution_count": 2,
   "metadata": {},
   "outputs": [],
   "source": [
    "db = Database()\n",
    "db.init_db()"
   ]
  },
  {
   "cell_type": "code",
   "execution_count": 3,
   "metadata": {},
   "outputs": [],
   "source": [
    "sim = SimulationEngine(db)"
   ]
  },
  {
   "cell_type": "code",
   "execution_count": 4,
   "metadata": {},
   "outputs": [
    {
     "data": {
      "text/html": [
       "<pre style=\"white-space:pre;overflow-x:auto;line-height:normal;font-family:Menlo,'DejaVu Sans Mono',consolas,'Courier New',monospace\"><span style=\"color: #008000; text-decoration-color: #008000; font-weight: bold\">Initializing Simulation...</span>\n",
       "</pre>\n"
      ],
      "text/plain": [
       "\u001b[1;32mInitializing Simulation\u001b[0m\u001b[1;32m...\u001b[0m\n"
      ]
     },
     "metadata": {},
     "output_type": "display_data"
    },
    {
     "data": {
      "text/html": [
       "<pre style=\"white-space:pre;overflow-x:auto;line-height:normal;font-family:Menlo,'DejaVu Sans Mono',consolas,'Courier New',monospace\">Created laptop model: Apple MacBook Pro <span style=\"color: #008080; text-decoration-color: #008080; font-weight: bold\">16</span>\n",
       "</pre>\n"
      ],
      "text/plain": [
       "Created laptop model: Apple MacBook Pro \u001b[1;36m16\u001b[0m\n"
      ]
     },
     "metadata": {},
     "output_type": "display_data"
    },
    {
     "data": {
      "text/html": [
       "<pre style=\"white-space:pre;overflow-x:auto;line-height:normal;font-family:Menlo,'DejaVu Sans Mono',consolas,'Courier New',monospace\">Created laptop model: Dell XPS <span style=\"color: #008080; text-decoration-color: #008080; font-weight: bold\">15</span>\n",
       "</pre>\n"
      ],
      "text/plain": [
       "Created laptop model: Dell XPS \u001b[1;36m15\u001b[0m\n"
      ]
     },
     "metadata": {},
     "output_type": "display_data"
    },
    {
     "data": {
      "text/html": [
       "<pre style=\"white-space:pre;overflow-x:auto;line-height:normal;font-family:Menlo,'DejaVu Sans Mono',consolas,'Courier New',monospace\">Created laptop model: Lenovo ThinkPad X1 Carbon\n",
       "</pre>\n"
      ],
      "text/plain": [
       "Created laptop model: Lenovo ThinkPad X1 Carbon\n"
      ]
     },
     "metadata": {},
     "output_type": "display_data"
    },
    {
     "data": {
      "text/html": [
       "<pre style=\"white-space:pre;overflow-x:auto;line-height:normal;font-family:Menlo,'DejaVu Sans Mono',consolas,'Courier New',monospace\">Created laptop model: Dell Latitude <span style=\"color: #008080; text-decoration-color: #008080; font-weight: bold\">5420</span>\n",
       "</pre>\n"
      ],
      "text/plain": [
       "Created laptop model: Dell Latitude \u001b[1;36m5420\u001b[0m\n"
      ]
     },
     "metadata": {},
     "output_type": "display_data"
    },
    {
     "data": {
      "text/html": [
       "<pre style=\"white-space:pre;overflow-x:auto;line-height:normal;font-family:Menlo,'DejaVu Sans Mono',consolas,'Courier New',monospace\">Created laptop model: HP EliteBook <span style=\"color: #008080; text-decoration-color: #008080; font-weight: bold\">840</span>\n",
       "</pre>\n"
      ],
      "text/plain": [
       "Created laptop model: HP EliteBook \u001b[1;36m840\u001b[0m\n"
      ]
     },
     "metadata": {},
     "output_type": "display_data"
    },
    {
     "data": {
      "text/html": [
       "<pre style=\"white-space:pre;overflow-x:auto;line-height:normal;font-family:Menlo,'DejaVu Sans Mono',consolas,'Courier New',monospace\">Created laptop model: Lenovo ThinkPad T14\n",
       "</pre>\n"
      ],
      "text/plain": [
       "Created laptop model: Lenovo ThinkPad T14\n"
      ]
     },
     "metadata": {},
     "output_type": "display_data"
    },
    {
     "data": {
      "text/html": [
       "<pre style=\"white-space:pre;overflow-x:auto;line-height:normal;font-family:Menlo,'DejaVu Sans Mono',consolas,'Courier New',monospace\">Created laptop model: Acer Aspire <span style=\"color: #008080; text-decoration-color: #008080; font-weight: bold\">5</span>\n",
       "</pre>\n"
      ],
      "text/plain": [
       "Created laptop model: Acer Aspire \u001b[1;36m5\u001b[0m\n"
      ]
     },
     "metadata": {},
     "output_type": "display_data"
    },
    {
     "data": {
      "text/html": [
       "<pre style=\"white-space:pre;overflow-x:auto;line-height:normal;font-family:Menlo,'DejaVu Sans Mono',consolas,'Courier New',monospace\">Created laptop model: Asus VivoBook <span style=\"color: #008080; text-decoration-color: #008080; font-weight: bold\">15</span>\n",
       "</pre>\n"
      ],
      "text/plain": [
       "Created laptop model: Asus VivoBook \u001b[1;36m15\u001b[0m\n"
      ]
     },
     "metadata": {},
     "output_type": "display_data"
    },
    {
     "data": {
      "text/html": [
       "<pre style=\"white-space:pre;overflow-x:auto;line-height:normal;font-family:Menlo,'DejaVu Sans Mono',consolas,'Courier New',monospace\">Created laptop model: Lenovo IdeaPad <span style=\"color: #008080; text-decoration-color: #008080; font-weight: bold\">3</span>\n",
       "</pre>\n"
      ],
      "text/plain": [
       "Created laptop model: Lenovo IdeaPad \u001b[1;36m3\u001b[0m\n"
      ]
     },
     "metadata": {},
     "output_type": "display_data"
    },
    {
     "ename": "IntegrityError",
     "evalue": "(sqlite3.IntegrityError) UNIQUE constraint failed: laptop.model_id\n[SQL: INSERT INTO laptop (model_id, brand, model_name, category, unit_price, min_stock, created_at, updated_at) VALUES (?, ?, ?, ?, ?, ?, ?, ?)]\n[parameters: (('apple-macbook-pro-16', <LaptopBrand.APPLE: 'Apple'>, 'MacBook Pro 16', <LaptopCategory.PREMIUM: 'premium'>, 2746.82, 10, '2025-02-21 02:15:13.655369', '2025-02-21 02:15:13.655370'), ('dell-xps-15', <LaptopBrand.DELL: 'Dell'>, 'XPS 15', <LaptopCategory.PREMIUM: 'premium'>, 1883.12, 10, '2025-02-21 02:15:13.655424', '2025-02-21 02:15:13.655424'), ('lenovo-thinkpad-x1-carbon', <LaptopBrand.LENOVO: 'Lenovo'>, 'ThinkPad X1 Carbon', <LaptopCategory.PREMIUM: 'premium'>, 2828.27, 10, '2025-02-21 02:15:13.655451', '2025-02-21 02:15:13.655451'), ('dell-latitude-5420', <LaptopBrand.DELL: 'Dell'>, 'Latitude 5420', <LaptopCategory.MIDRANGE: 'midrange'>, 972.33, 20, '2025-02-21 02:15:13.655471', '2025-02-21 02:15:13.655472'), ('hp-elitebook-840', <LaptopBrand.HP: 'HP'>, 'EliteBook 840', <LaptopCategory.MIDRANGE: 'midrange'>, 848.6, 20, '2025-02-21 02:15:13.655490', '2025-02-21 02:15:13.655490'), ('lenovo-thinkpad-t14', <LaptopBrand.LENOVO: 'Lenovo'>, 'ThinkPad T14', <LaptopCategory.MIDRANGE: 'midrange'>, 1254.5, 20, '2025-02-21 02:15:13.655510', '2025-02-21 02:15:13.655510'), ('acer-aspire-5', <LaptopBrand.ACER: 'Acer'>, 'Aspire 5', <LaptopCategory.BUDGET: 'budget'>, 562.49, 30, '2025-02-21 02:15:13.655532', '2025-02-21 02:15:13.655532'), ('asus-vivobook-15', <LaptopBrand.ASUS: 'Asus'>, 'VivoBook 15', <LaptopCategory.BUDGET: 'budget'>, 710.18, 30, '2025-02-21 02:15:13.655552', '2025-02-21 02:15:13.655552'), ('lenovo-ideapad-3', <LaptopBrand.LENOVO: 'Lenovo'>, 'IdeaPad 3', <LaptopCategory.BUDGET: 'budget'>, 506.0, 30, '2025-02-21 02:15:13.655571', '2025-02-21 02:15:13.655572'))]\n(Background on this error at: https://sqlalche.me/e/14/gkpj)",
     "output_type": "error",
     "traceback": [
      "\u001b[0;31m---------------------------------------------------------------------------\u001b[0m",
      "\u001b[0;31mIntegrityError\u001b[0m                            Traceback (most recent call last)",
      "File \u001b[0;32m~/play/ai4maths/inventory-assistant/.venv/lib/python3.11/site-packages/sqlalchemy/engine/base.py:1880\u001b[0m, in \u001b[0;36mConnection._execute_context\u001b[0;34m(self, dialect, constructor, statement, parameters, execution_options, *args, **kw)\u001b[0m\n\u001b[1;32m   1879\u001b[0m     \u001b[38;5;28;01mif\u001b[39;00m \u001b[38;5;129;01mnot\u001b[39;00m evt_handled:\n\u001b[0;32m-> 1880\u001b[0m         \u001b[38;5;28;43mself\u001b[39;49m\u001b[38;5;241;43m.\u001b[39;49m\u001b[43mdialect\u001b[49m\u001b[38;5;241;43m.\u001b[39;49m\u001b[43mdo_executemany\u001b[49m\u001b[43m(\u001b[49m\n\u001b[1;32m   1881\u001b[0m \u001b[43m            \u001b[49m\u001b[43mcursor\u001b[49m\u001b[43m,\u001b[49m\u001b[43m \u001b[49m\u001b[43mstatement\u001b[49m\u001b[43m,\u001b[49m\u001b[43m \u001b[49m\u001b[43mparameters\u001b[49m\u001b[43m,\u001b[49m\u001b[43m \u001b[49m\u001b[43mcontext\u001b[49m\n\u001b[1;32m   1882\u001b[0m \u001b[43m        \u001b[49m\u001b[43m)\u001b[49m\n\u001b[1;32m   1883\u001b[0m \u001b[38;5;28;01melif\u001b[39;00m \u001b[38;5;129;01mnot\u001b[39;00m parameters \u001b[38;5;129;01mand\u001b[39;00m context\u001b[38;5;241m.\u001b[39mno_parameters:\n",
      "File \u001b[0;32m~/play/ai4maths/inventory-assistant/.venv/lib/python3.11/site-packages/sqlalchemy/engine/default.py:733\u001b[0m, in \u001b[0;36mDefaultDialect.do_executemany\u001b[0;34m(self, cursor, statement, parameters, context)\u001b[0m\n\u001b[1;32m    732\u001b[0m \u001b[38;5;28;01mdef\u001b[39;00m\u001b[38;5;250m \u001b[39m\u001b[38;5;21mdo_executemany\u001b[39m(\u001b[38;5;28mself\u001b[39m, cursor, statement, parameters, context\u001b[38;5;241m=\u001b[39m\u001b[38;5;28;01mNone\u001b[39;00m):\n\u001b[0;32m--> 733\u001b[0m     \u001b[43mcursor\u001b[49m\u001b[38;5;241;43m.\u001b[39;49m\u001b[43mexecutemany\u001b[49m\u001b[43m(\u001b[49m\u001b[43mstatement\u001b[49m\u001b[43m,\u001b[49m\u001b[43m \u001b[49m\u001b[43mparameters\u001b[49m\u001b[43m)\u001b[49m\n",
      "\u001b[0;31mIntegrityError\u001b[0m: UNIQUE constraint failed: laptop.model_id",
      "\nThe above exception was the direct cause of the following exception:\n",
      "\u001b[0;31mIntegrityError\u001b[0m                            Traceback (most recent call last)",
      "Cell \u001b[0;32mIn[4], line 1\u001b[0m\n\u001b[0;32m----> 1\u001b[0m \u001b[43msim\u001b[49m\u001b[38;5;241;43m.\u001b[39;49m\u001b[43minitialize_simulation\u001b[49m\u001b[43m(\u001b[49m\u001b[43m)\u001b[49m\n",
      "File \u001b[0;32m~/play/ai4maths/inventory-assistant/inventory_assistant/simulation/engine.py:97\u001b[0m, in \u001b[0;36mSimulationEngine.initialize_simulation\u001b[0;34m(self)\u001b[0m\n\u001b[1;32m     94\u001b[0m     session\u001b[38;5;241m.\u001b[39madd(stock)\n\u001b[1;32m     96\u001b[0m \u001b[38;5;66;03m# Commit everything\u001b[39;00m\n\u001b[0;32m---> 97\u001b[0m \u001b[43msession\u001b[49m\u001b[38;5;241;43m.\u001b[39;49m\u001b[43mcommit\u001b[49m\u001b[43m(\u001b[49m\u001b[43m)\u001b[49m\n\u001b[1;32m     99\u001b[0m \u001b[38;5;66;03m# Store laptops for future reference\u001b[39;00m\n\u001b[1;32m    100\u001b[0m \u001b[38;5;28mself\u001b[39m\u001b[38;5;241m.\u001b[39mlaptops \u001b[38;5;241m=\u001b[39m generated_laptops\u001b[38;5;241m.\u001b[39mcopy()\n",
      "File \u001b[0;32m~/play/ai4maths/inventory-assistant/.venv/lib/python3.11/site-packages/sqlalchemy/orm/session.py:1451\u001b[0m, in \u001b[0;36mSession.commit\u001b[0;34m(self)\u001b[0m\n\u001b[1;32m   1448\u001b[0m     \u001b[38;5;28;01mif\u001b[39;00m \u001b[38;5;129;01mnot\u001b[39;00m \u001b[38;5;28mself\u001b[39m\u001b[38;5;241m.\u001b[39m_autobegin():\n\u001b[1;32m   1449\u001b[0m         \u001b[38;5;28;01mraise\u001b[39;00m sa_exc\u001b[38;5;241m.\u001b[39mInvalidRequestError(\u001b[38;5;124m\"\u001b[39m\u001b[38;5;124mNo transaction is begun.\u001b[39m\u001b[38;5;124m\"\u001b[39m)\n\u001b[0;32m-> 1451\u001b[0m \u001b[38;5;28;43mself\u001b[39;49m\u001b[38;5;241;43m.\u001b[39;49m\u001b[43m_transaction\u001b[49m\u001b[38;5;241;43m.\u001b[39;49m\u001b[43mcommit\u001b[49m\u001b[43m(\u001b[49m\u001b[43m_to_root\u001b[49m\u001b[38;5;241;43m=\u001b[39;49m\u001b[38;5;28;43mself\u001b[39;49m\u001b[38;5;241;43m.\u001b[39;49m\u001b[43mfuture\u001b[49m\u001b[43m)\u001b[49m\n",
      "File \u001b[0;32m~/play/ai4maths/inventory-assistant/.venv/lib/python3.11/site-packages/sqlalchemy/orm/session.py:829\u001b[0m, in \u001b[0;36mSessionTransaction.commit\u001b[0;34m(self, _to_root)\u001b[0m\n\u001b[1;32m    827\u001b[0m \u001b[38;5;28mself\u001b[39m\u001b[38;5;241m.\u001b[39m_assert_active(prepared_ok\u001b[38;5;241m=\u001b[39m\u001b[38;5;28;01mTrue\u001b[39;00m)\n\u001b[1;32m    828\u001b[0m \u001b[38;5;28;01mif\u001b[39;00m \u001b[38;5;28mself\u001b[39m\u001b[38;5;241m.\u001b[39m_state \u001b[38;5;129;01mis\u001b[39;00m \u001b[38;5;129;01mnot\u001b[39;00m PREPARED:\n\u001b[0;32m--> 829\u001b[0m     \u001b[38;5;28;43mself\u001b[39;49m\u001b[38;5;241;43m.\u001b[39;49m\u001b[43m_prepare_impl\u001b[49m\u001b[43m(\u001b[49m\u001b[43m)\u001b[49m\n\u001b[1;32m    831\u001b[0m \u001b[38;5;28;01mif\u001b[39;00m \u001b[38;5;28mself\u001b[39m\u001b[38;5;241m.\u001b[39m_parent \u001b[38;5;129;01mis\u001b[39;00m \u001b[38;5;28;01mNone\u001b[39;00m \u001b[38;5;129;01mor\u001b[39;00m \u001b[38;5;28mself\u001b[39m\u001b[38;5;241m.\u001b[39mnested:\n\u001b[1;32m    832\u001b[0m     \u001b[38;5;28;01mfor\u001b[39;00m conn, trans, should_commit, autoclose \u001b[38;5;129;01min\u001b[39;00m \u001b[38;5;28mset\u001b[39m(\n\u001b[1;32m    833\u001b[0m         \u001b[38;5;28mself\u001b[39m\u001b[38;5;241m.\u001b[39m_connections\u001b[38;5;241m.\u001b[39mvalues()\n\u001b[1;32m    834\u001b[0m     ):\n",
      "File \u001b[0;32m~/play/ai4maths/inventory-assistant/.venv/lib/python3.11/site-packages/sqlalchemy/orm/session.py:808\u001b[0m, in \u001b[0;36mSessionTransaction._prepare_impl\u001b[0;34m(self)\u001b[0m\n\u001b[1;32m    806\u001b[0m     \u001b[38;5;28;01mif\u001b[39;00m \u001b[38;5;28mself\u001b[39m\u001b[38;5;241m.\u001b[39msession\u001b[38;5;241m.\u001b[39m_is_clean():\n\u001b[1;32m    807\u001b[0m         \u001b[38;5;28;01mbreak\u001b[39;00m\n\u001b[0;32m--> 808\u001b[0m     \u001b[38;5;28;43mself\u001b[39;49m\u001b[38;5;241;43m.\u001b[39;49m\u001b[43msession\u001b[49m\u001b[38;5;241;43m.\u001b[39;49m\u001b[43mflush\u001b[49m\u001b[43m(\u001b[49m\u001b[43m)\u001b[49m\n\u001b[1;32m    809\u001b[0m \u001b[38;5;28;01melse\u001b[39;00m:\n\u001b[1;32m    810\u001b[0m     \u001b[38;5;28;01mraise\u001b[39;00m exc\u001b[38;5;241m.\u001b[39mFlushError(\n\u001b[1;32m    811\u001b[0m         \u001b[38;5;124m\"\u001b[39m\u001b[38;5;124mOver 100 subsequent flushes have occurred within \u001b[39m\u001b[38;5;124m\"\u001b[39m\n\u001b[1;32m    812\u001b[0m         \u001b[38;5;124m\"\u001b[39m\u001b[38;5;124msession.commit() - is an after_flush() hook \u001b[39m\u001b[38;5;124m\"\u001b[39m\n\u001b[1;32m    813\u001b[0m         \u001b[38;5;124m\"\u001b[39m\u001b[38;5;124mcreating new objects?\u001b[39m\u001b[38;5;124m\"\u001b[39m\n\u001b[1;32m    814\u001b[0m     )\n",
      "File \u001b[0;32m~/play/ai4maths/inventory-assistant/.venv/lib/python3.11/site-packages/sqlalchemy/orm/session.py:3386\u001b[0m, in \u001b[0;36mSession.flush\u001b[0;34m(self, objects)\u001b[0m\n\u001b[1;32m   3384\u001b[0m \u001b[38;5;28;01mtry\u001b[39;00m:\n\u001b[1;32m   3385\u001b[0m     \u001b[38;5;28mself\u001b[39m\u001b[38;5;241m.\u001b[39m_flushing \u001b[38;5;241m=\u001b[39m \u001b[38;5;28;01mTrue\u001b[39;00m\n\u001b[0;32m-> 3386\u001b[0m     \u001b[38;5;28;43mself\u001b[39;49m\u001b[38;5;241;43m.\u001b[39;49m\u001b[43m_flush\u001b[49m\u001b[43m(\u001b[49m\u001b[43mobjects\u001b[49m\u001b[43m)\u001b[49m\n\u001b[1;32m   3387\u001b[0m \u001b[38;5;28;01mfinally\u001b[39;00m:\n\u001b[1;32m   3388\u001b[0m     \u001b[38;5;28mself\u001b[39m\u001b[38;5;241m.\u001b[39m_flushing \u001b[38;5;241m=\u001b[39m \u001b[38;5;28;01mFalse\u001b[39;00m\n",
      "File \u001b[0;32m~/play/ai4maths/inventory-assistant/.venv/lib/python3.11/site-packages/sqlalchemy/orm/session.py:3525\u001b[0m, in \u001b[0;36mSession._flush\u001b[0;34m(self, objects)\u001b[0m\n\u001b[1;32m   3522\u001b[0m     transaction\u001b[38;5;241m.\u001b[39mcommit()\n\u001b[1;32m   3524\u001b[0m \u001b[38;5;28;01mexcept\u001b[39;00m:\n\u001b[0;32m-> 3525\u001b[0m \u001b[43m    \u001b[49m\u001b[38;5;28;43;01mwith\u001b[39;49;00m\u001b[43m \u001b[49m\u001b[43mutil\u001b[49m\u001b[38;5;241;43m.\u001b[39;49m\u001b[43msafe_reraise\u001b[49m\u001b[43m(\u001b[49m\u001b[43m)\u001b[49m\u001b[43m:\u001b[49m\n\u001b[1;32m   3526\u001b[0m \u001b[43m        \u001b[49m\u001b[43mtransaction\u001b[49m\u001b[38;5;241;43m.\u001b[39;49m\u001b[43mrollback\u001b[49m\u001b[43m(\u001b[49m\u001b[43m_capture_exception\u001b[49m\u001b[38;5;241;43m=\u001b[39;49m\u001b[38;5;28;43;01mTrue\u001b[39;49;00m\u001b[43m)\u001b[49m\n",
      "File \u001b[0;32m~/play/ai4maths/inventory-assistant/.venv/lib/python3.11/site-packages/sqlalchemy/util/langhelpers.py:70\u001b[0m, in \u001b[0;36msafe_reraise.__exit__\u001b[0;34m(self, type_, value, traceback)\u001b[0m\n\u001b[1;32m     68\u001b[0m     \u001b[38;5;28mself\u001b[39m\u001b[38;5;241m.\u001b[39m_exc_info \u001b[38;5;241m=\u001b[39m \u001b[38;5;28;01mNone\u001b[39;00m  \u001b[38;5;66;03m# remove potential circular references\u001b[39;00m\n\u001b[1;32m     69\u001b[0m     \u001b[38;5;28;01mif\u001b[39;00m \u001b[38;5;129;01mnot\u001b[39;00m \u001b[38;5;28mself\u001b[39m\u001b[38;5;241m.\u001b[39mwarn_only:\n\u001b[0;32m---> 70\u001b[0m         \u001b[43mcompat\u001b[49m\u001b[38;5;241;43m.\u001b[39;49m\u001b[43mraise_\u001b[49m\u001b[43m(\u001b[49m\n\u001b[1;32m     71\u001b[0m \u001b[43m            \u001b[49m\u001b[43mexc_value\u001b[49m\u001b[43m,\u001b[49m\n\u001b[1;32m     72\u001b[0m \u001b[43m            \u001b[49m\u001b[43mwith_traceback\u001b[49m\u001b[38;5;241;43m=\u001b[39;49m\u001b[43mexc_tb\u001b[49m\u001b[43m,\u001b[49m\n\u001b[1;32m     73\u001b[0m \u001b[43m        \u001b[49m\u001b[43m)\u001b[49m\n\u001b[1;32m     74\u001b[0m \u001b[38;5;28;01melse\u001b[39;00m:\n\u001b[1;32m     75\u001b[0m     \u001b[38;5;28;01mif\u001b[39;00m \u001b[38;5;129;01mnot\u001b[39;00m compat\u001b[38;5;241m.\u001b[39mpy3k \u001b[38;5;129;01mand\u001b[39;00m \u001b[38;5;28mself\u001b[39m\u001b[38;5;241m.\u001b[39m_exc_info \u001b[38;5;129;01mand\u001b[39;00m \u001b[38;5;28mself\u001b[39m\u001b[38;5;241m.\u001b[39m_exc_info[\u001b[38;5;241m1\u001b[39m]:\n\u001b[1;32m     76\u001b[0m         \u001b[38;5;66;03m# emulate Py3K's behavior of telling us when an exception\u001b[39;00m\n\u001b[1;32m     77\u001b[0m         \u001b[38;5;66;03m# occurs in an exception handler.\u001b[39;00m\n",
      "File \u001b[0;32m~/play/ai4maths/inventory-assistant/.venv/lib/python3.11/site-packages/sqlalchemy/util/compat.py:208\u001b[0m, in \u001b[0;36mraise_\u001b[0;34m(***failed resolving arguments***)\u001b[0m\n\u001b[1;32m    205\u001b[0m     exception\u001b[38;5;241m.\u001b[39m__cause__ \u001b[38;5;241m=\u001b[39m replace_context\n\u001b[1;32m    207\u001b[0m \u001b[38;5;28;01mtry\u001b[39;00m:\n\u001b[0;32m--> 208\u001b[0m     \u001b[38;5;28;01mraise\u001b[39;00m exception\n\u001b[1;32m    209\u001b[0m \u001b[38;5;28;01mfinally\u001b[39;00m:\n\u001b[1;32m    210\u001b[0m     \u001b[38;5;66;03m# credit to\u001b[39;00m\n\u001b[1;32m    211\u001b[0m     \u001b[38;5;66;03m# https://cosmicpercolator.com/2016/01/13/exception-leaks-in-python-2-and-3/\u001b[39;00m\n\u001b[1;32m    212\u001b[0m     \u001b[38;5;66;03m# as the __traceback__ object creates a cycle\u001b[39;00m\n\u001b[1;32m    213\u001b[0m     \u001b[38;5;28;01mdel\u001b[39;00m exception, replace_context, from_, with_traceback\n",
      "File \u001b[0;32m~/play/ai4maths/inventory-assistant/.venv/lib/python3.11/site-packages/sqlalchemy/orm/session.py:3486\u001b[0m, in \u001b[0;36mSession._flush\u001b[0;34m(self, objects)\u001b[0m\n\u001b[1;32m   3484\u001b[0m \u001b[38;5;28mself\u001b[39m\u001b[38;5;241m.\u001b[39m_warn_on_events \u001b[38;5;241m=\u001b[39m \u001b[38;5;28;01mTrue\u001b[39;00m\n\u001b[1;32m   3485\u001b[0m \u001b[38;5;28;01mtry\u001b[39;00m:\n\u001b[0;32m-> 3486\u001b[0m     \u001b[43mflush_context\u001b[49m\u001b[38;5;241;43m.\u001b[39;49m\u001b[43mexecute\u001b[49m\u001b[43m(\u001b[49m\u001b[43m)\u001b[49m\n\u001b[1;32m   3487\u001b[0m \u001b[38;5;28;01mfinally\u001b[39;00m:\n\u001b[1;32m   3488\u001b[0m     \u001b[38;5;28mself\u001b[39m\u001b[38;5;241m.\u001b[39m_warn_on_events \u001b[38;5;241m=\u001b[39m \u001b[38;5;28;01mFalse\u001b[39;00m\n",
      "File \u001b[0;32m~/play/ai4maths/inventory-assistant/.venv/lib/python3.11/site-packages/sqlalchemy/orm/unitofwork.py:456\u001b[0m, in \u001b[0;36mUOWTransaction.execute\u001b[0;34m(self)\u001b[0m\n\u001b[1;32m    454\u001b[0m \u001b[38;5;28;01melse\u001b[39;00m:\n\u001b[1;32m    455\u001b[0m     \u001b[38;5;28;01mfor\u001b[39;00m rec \u001b[38;5;129;01min\u001b[39;00m topological\u001b[38;5;241m.\u001b[39msort(\u001b[38;5;28mself\u001b[39m\u001b[38;5;241m.\u001b[39mdependencies, postsort_actions):\n\u001b[0;32m--> 456\u001b[0m         \u001b[43mrec\u001b[49m\u001b[38;5;241;43m.\u001b[39;49m\u001b[43mexecute\u001b[49m\u001b[43m(\u001b[49m\u001b[38;5;28;43mself\u001b[39;49m\u001b[43m)\u001b[49m\n",
      "File \u001b[0;32m~/play/ai4maths/inventory-assistant/.venv/lib/python3.11/site-packages/sqlalchemy/orm/unitofwork.py:630\u001b[0m, in \u001b[0;36mSaveUpdateAll.execute\u001b[0;34m(self, uow)\u001b[0m\n\u001b[1;32m    628\u001b[0m \u001b[38;5;129m@util\u001b[39m\u001b[38;5;241m.\u001b[39mpreload_module(\u001b[38;5;124m\"\u001b[39m\u001b[38;5;124msqlalchemy.orm.persistence\u001b[39m\u001b[38;5;124m\"\u001b[39m)\n\u001b[1;32m    629\u001b[0m \u001b[38;5;28;01mdef\u001b[39;00m\u001b[38;5;250m \u001b[39m\u001b[38;5;21mexecute\u001b[39m(\u001b[38;5;28mself\u001b[39m, uow):\n\u001b[0;32m--> 630\u001b[0m     \u001b[43mutil\u001b[49m\u001b[38;5;241;43m.\u001b[39;49m\u001b[43mpreloaded\u001b[49m\u001b[38;5;241;43m.\u001b[39;49m\u001b[43morm_persistence\u001b[49m\u001b[38;5;241;43m.\u001b[39;49m\u001b[43msave_obj\u001b[49m\u001b[43m(\u001b[49m\n\u001b[1;32m    631\u001b[0m \u001b[43m        \u001b[49m\u001b[38;5;28;43mself\u001b[39;49m\u001b[38;5;241;43m.\u001b[39;49m\u001b[43mmapper\u001b[49m\u001b[43m,\u001b[49m\n\u001b[1;32m    632\u001b[0m \u001b[43m        \u001b[49m\u001b[43muow\u001b[49m\u001b[38;5;241;43m.\u001b[39;49m\u001b[43mstates_for_mapper_hierarchy\u001b[49m\u001b[43m(\u001b[49m\u001b[38;5;28;43mself\u001b[39;49m\u001b[38;5;241;43m.\u001b[39;49m\u001b[43mmapper\u001b[49m\u001b[43m,\u001b[49m\u001b[43m \u001b[49m\u001b[38;5;28;43;01mFalse\u001b[39;49;00m\u001b[43m,\u001b[49m\u001b[43m \u001b[49m\u001b[38;5;28;43;01mFalse\u001b[39;49;00m\u001b[43m)\u001b[49m\u001b[43m,\u001b[49m\n\u001b[1;32m    633\u001b[0m \u001b[43m        \u001b[49m\u001b[43muow\u001b[49m\u001b[43m,\u001b[49m\n\u001b[1;32m    634\u001b[0m \u001b[43m    \u001b[49m\u001b[43m)\u001b[49m\n",
      "File \u001b[0;32m~/play/ai4maths/inventory-assistant/.venv/lib/python3.11/site-packages/sqlalchemy/orm/persistence.py:245\u001b[0m, in \u001b[0;36msave_obj\u001b[0;34m(base_mapper, states, uowtransaction, single)\u001b[0m\n\u001b[1;32m    233\u001b[0m     update \u001b[38;5;241m=\u001b[39m _collect_update_commands(\n\u001b[1;32m    234\u001b[0m         uowtransaction, table, states_to_update\n\u001b[1;32m    235\u001b[0m     )\n\u001b[1;32m    237\u001b[0m     _emit_update_statements(\n\u001b[1;32m    238\u001b[0m         base_mapper,\n\u001b[1;32m    239\u001b[0m         uowtransaction,\n\u001b[0;32m   (...)\u001b[0m\n\u001b[1;32m    242\u001b[0m         update,\n\u001b[1;32m    243\u001b[0m     )\n\u001b[0;32m--> 245\u001b[0m     \u001b[43m_emit_insert_statements\u001b[49m\u001b[43m(\u001b[49m\n\u001b[1;32m    246\u001b[0m \u001b[43m        \u001b[49m\u001b[43mbase_mapper\u001b[49m\u001b[43m,\u001b[49m\n\u001b[1;32m    247\u001b[0m \u001b[43m        \u001b[49m\u001b[43muowtransaction\u001b[49m\u001b[43m,\u001b[49m\n\u001b[1;32m    248\u001b[0m \u001b[43m        \u001b[49m\u001b[43mmapper\u001b[49m\u001b[43m,\u001b[49m\n\u001b[1;32m    249\u001b[0m \u001b[43m        \u001b[49m\u001b[43mtable\u001b[49m\u001b[43m,\u001b[49m\n\u001b[1;32m    250\u001b[0m \u001b[43m        \u001b[49m\u001b[43minsert\u001b[49m\u001b[43m,\u001b[49m\n\u001b[1;32m    251\u001b[0m \u001b[43m    \u001b[49m\u001b[43m)\u001b[49m\n\u001b[1;32m    253\u001b[0m _finalize_insert_update_commands(\n\u001b[1;32m    254\u001b[0m     base_mapper,\n\u001b[1;32m    255\u001b[0m     uowtransaction,\n\u001b[0;32m   (...)\u001b[0m\n\u001b[1;32m    271\u001b[0m     ),\n\u001b[1;32m    272\u001b[0m )\n",
      "File \u001b[0;32m~/play/ai4maths/inventory-assistant/.venv/lib/python3.11/site-packages/sqlalchemy/orm/persistence.py:1097\u001b[0m, in \u001b[0;36m_emit_insert_statements\u001b[0;34m(base_mapper, uowtransaction, mapper, table, insert, bookkeeping)\u001b[0m\n\u001b[1;32m   1094\u001b[0m records \u001b[38;5;241m=\u001b[39m \u001b[38;5;28mlist\u001b[39m(records)\n\u001b[1;32m   1095\u001b[0m multiparams \u001b[38;5;241m=\u001b[39m [rec[\u001b[38;5;241m2\u001b[39m] \u001b[38;5;28;01mfor\u001b[39;00m rec \u001b[38;5;129;01min\u001b[39;00m records]\n\u001b[0;32m-> 1097\u001b[0m c \u001b[38;5;241m=\u001b[39m \u001b[43mconnection\u001b[49m\u001b[38;5;241;43m.\u001b[39;49m\u001b[43m_execute_20\u001b[49m\u001b[43m(\u001b[49m\n\u001b[1;32m   1098\u001b[0m \u001b[43m    \u001b[49m\u001b[43mstatement\u001b[49m\u001b[43m,\u001b[49m\u001b[43m \u001b[49m\u001b[43mmultiparams\u001b[49m\u001b[43m,\u001b[49m\u001b[43m \u001b[49m\u001b[43mexecution_options\u001b[49m\u001b[38;5;241;43m=\u001b[39;49m\u001b[43mexecution_options\u001b[49m\n\u001b[1;32m   1099\u001b[0m \u001b[43m\u001b[49m\u001b[43m)\u001b[49m\n\u001b[1;32m   1101\u001b[0m \u001b[38;5;28;01mif\u001b[39;00m bookkeeping:\n\u001b[1;32m   1102\u001b[0m     \u001b[38;5;28;01mfor\u001b[39;00m (\n\u001b[1;32m   1103\u001b[0m         (\n\u001b[1;32m   1104\u001b[0m             state,\n\u001b[0;32m   (...)\u001b[0m\n\u001b[1;32m   1113\u001b[0m         last_inserted_params,\n\u001b[1;32m   1114\u001b[0m     ) \u001b[38;5;129;01min\u001b[39;00m \u001b[38;5;28mzip\u001b[39m(records, c\u001b[38;5;241m.\u001b[39mcontext\u001b[38;5;241m.\u001b[39mcompiled_parameters):\n",
      "File \u001b[0;32m~/play/ai4maths/inventory-assistant/.venv/lib/python3.11/site-packages/sqlalchemy/engine/base.py:1705\u001b[0m, in \u001b[0;36mConnection._execute_20\u001b[0;34m(self, statement, parameters, execution_options)\u001b[0m\n\u001b[1;32m   1701\u001b[0m     util\u001b[38;5;241m.\u001b[39mraise_(\n\u001b[1;32m   1702\u001b[0m         exc\u001b[38;5;241m.\u001b[39mObjectNotExecutableError(statement), replace_context\u001b[38;5;241m=\u001b[39merr\n\u001b[1;32m   1703\u001b[0m     )\n\u001b[1;32m   1704\u001b[0m \u001b[38;5;28;01melse\u001b[39;00m:\n\u001b[0;32m-> 1705\u001b[0m     \u001b[38;5;28;01mreturn\u001b[39;00m \u001b[43mmeth\u001b[49m\u001b[43m(\u001b[49m\u001b[38;5;28;43mself\u001b[39;49m\u001b[43m,\u001b[49m\u001b[43m \u001b[49m\u001b[43margs_10style\u001b[49m\u001b[43m,\u001b[49m\u001b[43m \u001b[49m\u001b[43mkwargs_10style\u001b[49m\u001b[43m,\u001b[49m\u001b[43m \u001b[49m\u001b[43mexecution_options\u001b[49m\u001b[43m)\u001b[49m\n",
      "File \u001b[0;32m~/play/ai4maths/inventory-assistant/.venv/lib/python3.11/site-packages/sqlalchemy/sql/elements.py:333\u001b[0m, in \u001b[0;36mClauseElement._execute_on_connection\u001b[0;34m(self, connection, multiparams, params, execution_options, _force)\u001b[0m\n\u001b[1;32m    329\u001b[0m \u001b[38;5;28;01mdef\u001b[39;00m\u001b[38;5;250m \u001b[39m\u001b[38;5;21m_execute_on_connection\u001b[39m(\n\u001b[1;32m    330\u001b[0m     \u001b[38;5;28mself\u001b[39m, connection, multiparams, params, execution_options, _force\u001b[38;5;241m=\u001b[39m\u001b[38;5;28;01mFalse\u001b[39;00m\n\u001b[1;32m    331\u001b[0m ):\n\u001b[1;32m    332\u001b[0m     \u001b[38;5;28;01mif\u001b[39;00m _force \u001b[38;5;129;01mor\u001b[39;00m \u001b[38;5;28mself\u001b[39m\u001b[38;5;241m.\u001b[39msupports_execution:\n\u001b[0;32m--> 333\u001b[0m         \u001b[38;5;28;01mreturn\u001b[39;00m \u001b[43mconnection\u001b[49m\u001b[38;5;241;43m.\u001b[39;49m\u001b[43m_execute_clauseelement\u001b[49m\u001b[43m(\u001b[49m\n\u001b[1;32m    334\u001b[0m \u001b[43m            \u001b[49m\u001b[38;5;28;43mself\u001b[39;49m\u001b[43m,\u001b[49m\u001b[43m \u001b[49m\u001b[43mmultiparams\u001b[49m\u001b[43m,\u001b[49m\u001b[43m \u001b[49m\u001b[43mparams\u001b[49m\u001b[43m,\u001b[49m\u001b[43m \u001b[49m\u001b[43mexecution_options\u001b[49m\n\u001b[1;32m    335\u001b[0m \u001b[43m        \u001b[49m\u001b[43m)\u001b[49m\n\u001b[1;32m    336\u001b[0m     \u001b[38;5;28;01melse\u001b[39;00m:\n\u001b[1;32m    337\u001b[0m         \u001b[38;5;28;01mraise\u001b[39;00m exc\u001b[38;5;241m.\u001b[39mObjectNotExecutableError(\u001b[38;5;28mself\u001b[39m)\n",
      "File \u001b[0;32m~/play/ai4maths/inventory-assistant/.venv/lib/python3.11/site-packages/sqlalchemy/engine/base.py:1572\u001b[0m, in \u001b[0;36mConnection._execute_clauseelement\u001b[0;34m(self, elem, multiparams, params, execution_options)\u001b[0m\n\u001b[1;32m   1560\u001b[0m compiled_cache \u001b[38;5;241m=\u001b[39m execution_options\u001b[38;5;241m.\u001b[39mget(\n\u001b[1;32m   1561\u001b[0m     \u001b[38;5;124m\"\u001b[39m\u001b[38;5;124mcompiled_cache\u001b[39m\u001b[38;5;124m\"\u001b[39m, \u001b[38;5;28mself\u001b[39m\u001b[38;5;241m.\u001b[39mengine\u001b[38;5;241m.\u001b[39m_compiled_cache\n\u001b[1;32m   1562\u001b[0m )\n\u001b[1;32m   1564\u001b[0m compiled_sql, extracted_params, cache_hit \u001b[38;5;241m=\u001b[39m elem\u001b[38;5;241m.\u001b[39m_compile_w_cache(\n\u001b[1;32m   1565\u001b[0m     dialect\u001b[38;5;241m=\u001b[39mdialect,\n\u001b[1;32m   1566\u001b[0m     compiled_cache\u001b[38;5;241m=\u001b[39mcompiled_cache,\n\u001b[0;32m   (...)\u001b[0m\n\u001b[1;32m   1570\u001b[0m     linting\u001b[38;5;241m=\u001b[39m\u001b[38;5;28mself\u001b[39m\u001b[38;5;241m.\u001b[39mdialect\u001b[38;5;241m.\u001b[39mcompiler_linting \u001b[38;5;241m|\u001b[39m compiler\u001b[38;5;241m.\u001b[39mWARN_LINTING,\n\u001b[1;32m   1571\u001b[0m )\n\u001b[0;32m-> 1572\u001b[0m ret \u001b[38;5;241m=\u001b[39m \u001b[38;5;28;43mself\u001b[39;49m\u001b[38;5;241;43m.\u001b[39;49m\u001b[43m_execute_context\u001b[49m\u001b[43m(\u001b[49m\n\u001b[1;32m   1573\u001b[0m \u001b[43m    \u001b[49m\u001b[43mdialect\u001b[49m\u001b[43m,\u001b[49m\n\u001b[1;32m   1574\u001b[0m \u001b[43m    \u001b[49m\u001b[43mdialect\u001b[49m\u001b[38;5;241;43m.\u001b[39;49m\u001b[43mexecution_ctx_cls\u001b[49m\u001b[38;5;241;43m.\u001b[39;49m\u001b[43m_init_compiled\u001b[49m\u001b[43m,\u001b[49m\n\u001b[1;32m   1575\u001b[0m \u001b[43m    \u001b[49m\u001b[43mcompiled_sql\u001b[49m\u001b[43m,\u001b[49m\n\u001b[1;32m   1576\u001b[0m \u001b[43m    \u001b[49m\u001b[43mdistilled_params\u001b[49m\u001b[43m,\u001b[49m\n\u001b[1;32m   1577\u001b[0m \u001b[43m    \u001b[49m\u001b[43mexecution_options\u001b[49m\u001b[43m,\u001b[49m\n\u001b[1;32m   1578\u001b[0m \u001b[43m    \u001b[49m\u001b[43mcompiled_sql\u001b[49m\u001b[43m,\u001b[49m\n\u001b[1;32m   1579\u001b[0m \u001b[43m    \u001b[49m\u001b[43mdistilled_params\u001b[49m\u001b[43m,\u001b[49m\n\u001b[1;32m   1580\u001b[0m \u001b[43m    \u001b[49m\u001b[43melem\u001b[49m\u001b[43m,\u001b[49m\n\u001b[1;32m   1581\u001b[0m \u001b[43m    \u001b[49m\u001b[43mextracted_params\u001b[49m\u001b[43m,\u001b[49m\n\u001b[1;32m   1582\u001b[0m \u001b[43m    \u001b[49m\u001b[43mcache_hit\u001b[49m\u001b[38;5;241;43m=\u001b[39;49m\u001b[43mcache_hit\u001b[49m\u001b[43m,\u001b[49m\n\u001b[1;32m   1583\u001b[0m \u001b[43m\u001b[49m\u001b[43m)\u001b[49m\n\u001b[1;32m   1584\u001b[0m \u001b[38;5;28;01mif\u001b[39;00m has_events:\n\u001b[1;32m   1585\u001b[0m     \u001b[38;5;28mself\u001b[39m\u001b[38;5;241m.\u001b[39mdispatch\u001b[38;5;241m.\u001b[39mafter_execute(\n\u001b[1;32m   1586\u001b[0m         \u001b[38;5;28mself\u001b[39m,\n\u001b[1;32m   1587\u001b[0m         elem,\n\u001b[0;32m   (...)\u001b[0m\n\u001b[1;32m   1591\u001b[0m         ret,\n\u001b[1;32m   1592\u001b[0m     )\n",
      "File \u001b[0;32m~/play/ai4maths/inventory-assistant/.venv/lib/python3.11/site-packages/sqlalchemy/engine/base.py:1943\u001b[0m, in \u001b[0;36mConnection._execute_context\u001b[0;34m(self, dialect, constructor, statement, parameters, execution_options, *args, **kw)\u001b[0m\n\u001b[1;32m   1940\u001b[0m             branched\u001b[38;5;241m.\u001b[39mclose()\n\u001b[1;32m   1942\u001b[0m \u001b[38;5;28;01mexcept\u001b[39;00m \u001b[38;5;167;01mBaseException\u001b[39;00m \u001b[38;5;28;01mas\u001b[39;00m e:\n\u001b[0;32m-> 1943\u001b[0m     \u001b[38;5;28;43mself\u001b[39;49m\u001b[38;5;241;43m.\u001b[39;49m\u001b[43m_handle_dbapi_exception\u001b[49m\u001b[43m(\u001b[49m\n\u001b[1;32m   1944\u001b[0m \u001b[43m        \u001b[49m\u001b[43me\u001b[49m\u001b[43m,\u001b[49m\u001b[43m \u001b[49m\u001b[43mstatement\u001b[49m\u001b[43m,\u001b[49m\u001b[43m \u001b[49m\u001b[43mparameters\u001b[49m\u001b[43m,\u001b[49m\u001b[43m \u001b[49m\u001b[43mcursor\u001b[49m\u001b[43m,\u001b[49m\u001b[43m \u001b[49m\u001b[43mcontext\u001b[49m\n\u001b[1;32m   1945\u001b[0m \u001b[43m    \u001b[49m\u001b[43m)\u001b[49m\n\u001b[1;32m   1947\u001b[0m \u001b[38;5;28;01mreturn\u001b[39;00m result\n",
      "File \u001b[0;32m~/play/ai4maths/inventory-assistant/.venv/lib/python3.11/site-packages/sqlalchemy/engine/base.py:2124\u001b[0m, in \u001b[0;36mConnection._handle_dbapi_exception\u001b[0;34m(self, e, statement, parameters, cursor, context)\u001b[0m\n\u001b[1;32m   2122\u001b[0m     util\u001b[38;5;241m.\u001b[39mraise_(newraise, with_traceback\u001b[38;5;241m=\u001b[39mexc_info[\u001b[38;5;241m2\u001b[39m], from_\u001b[38;5;241m=\u001b[39me)\n\u001b[1;32m   2123\u001b[0m \u001b[38;5;28;01melif\u001b[39;00m should_wrap:\n\u001b[0;32m-> 2124\u001b[0m     \u001b[43mutil\u001b[49m\u001b[38;5;241;43m.\u001b[39;49m\u001b[43mraise_\u001b[49m\u001b[43m(\u001b[49m\n\u001b[1;32m   2125\u001b[0m \u001b[43m        \u001b[49m\u001b[43msqlalchemy_exception\u001b[49m\u001b[43m,\u001b[49m\u001b[43m \u001b[49m\u001b[43mwith_traceback\u001b[49m\u001b[38;5;241;43m=\u001b[39;49m\u001b[43mexc_info\u001b[49m\u001b[43m[\u001b[49m\u001b[38;5;241;43m2\u001b[39;49m\u001b[43m]\u001b[49m\u001b[43m,\u001b[49m\u001b[43m \u001b[49m\u001b[43mfrom_\u001b[49m\u001b[38;5;241;43m=\u001b[39;49m\u001b[43me\u001b[49m\n\u001b[1;32m   2126\u001b[0m \u001b[43m    \u001b[49m\u001b[43m)\u001b[49m\n\u001b[1;32m   2127\u001b[0m \u001b[38;5;28;01melse\u001b[39;00m:\n\u001b[1;32m   2128\u001b[0m     util\u001b[38;5;241m.\u001b[39mraise_(exc_info[\u001b[38;5;241m1\u001b[39m], with_traceback\u001b[38;5;241m=\u001b[39mexc_info[\u001b[38;5;241m2\u001b[39m])\n",
      "File \u001b[0;32m~/play/ai4maths/inventory-assistant/.venv/lib/python3.11/site-packages/sqlalchemy/util/compat.py:208\u001b[0m, in \u001b[0;36mraise_\u001b[0;34m(***failed resolving arguments***)\u001b[0m\n\u001b[1;32m    205\u001b[0m     exception\u001b[38;5;241m.\u001b[39m__cause__ \u001b[38;5;241m=\u001b[39m replace_context\n\u001b[1;32m    207\u001b[0m \u001b[38;5;28;01mtry\u001b[39;00m:\n\u001b[0;32m--> 208\u001b[0m     \u001b[38;5;28;01mraise\u001b[39;00m exception\n\u001b[1;32m    209\u001b[0m \u001b[38;5;28;01mfinally\u001b[39;00m:\n\u001b[1;32m    210\u001b[0m     \u001b[38;5;66;03m# credit to\u001b[39;00m\n\u001b[1;32m    211\u001b[0m     \u001b[38;5;66;03m# https://cosmicpercolator.com/2016/01/13/exception-leaks-in-python-2-and-3/\u001b[39;00m\n\u001b[1;32m    212\u001b[0m     \u001b[38;5;66;03m# as the __traceback__ object creates a cycle\u001b[39;00m\n\u001b[1;32m    213\u001b[0m     \u001b[38;5;28;01mdel\u001b[39;00m exception, replace_context, from_, with_traceback\n",
      "File \u001b[0;32m~/play/ai4maths/inventory-assistant/.venv/lib/python3.11/site-packages/sqlalchemy/engine/base.py:1880\u001b[0m, in \u001b[0;36mConnection._execute_context\u001b[0;34m(self, dialect, constructor, statement, parameters, execution_options, *args, **kw)\u001b[0m\n\u001b[1;32m   1878\u001b[0m                 \u001b[38;5;28;01mbreak\u001b[39;00m\n\u001b[1;32m   1879\u001b[0m     \u001b[38;5;28;01mif\u001b[39;00m \u001b[38;5;129;01mnot\u001b[39;00m evt_handled:\n\u001b[0;32m-> 1880\u001b[0m         \u001b[38;5;28;43mself\u001b[39;49m\u001b[38;5;241;43m.\u001b[39;49m\u001b[43mdialect\u001b[49m\u001b[38;5;241;43m.\u001b[39;49m\u001b[43mdo_executemany\u001b[49m\u001b[43m(\u001b[49m\n\u001b[1;32m   1881\u001b[0m \u001b[43m            \u001b[49m\u001b[43mcursor\u001b[49m\u001b[43m,\u001b[49m\u001b[43m \u001b[49m\u001b[43mstatement\u001b[49m\u001b[43m,\u001b[49m\u001b[43m \u001b[49m\u001b[43mparameters\u001b[49m\u001b[43m,\u001b[49m\u001b[43m \u001b[49m\u001b[43mcontext\u001b[49m\n\u001b[1;32m   1882\u001b[0m \u001b[43m        \u001b[49m\u001b[43m)\u001b[49m\n\u001b[1;32m   1883\u001b[0m \u001b[38;5;28;01melif\u001b[39;00m \u001b[38;5;129;01mnot\u001b[39;00m parameters \u001b[38;5;129;01mand\u001b[39;00m context\u001b[38;5;241m.\u001b[39mno_parameters:\n\u001b[1;32m   1884\u001b[0m     \u001b[38;5;28;01mif\u001b[39;00m \u001b[38;5;28mself\u001b[39m\u001b[38;5;241m.\u001b[39mdialect\u001b[38;5;241m.\u001b[39m_has_events:\n",
      "File \u001b[0;32m~/play/ai4maths/inventory-assistant/.venv/lib/python3.11/site-packages/sqlalchemy/engine/default.py:733\u001b[0m, in \u001b[0;36mDefaultDialect.do_executemany\u001b[0;34m(self, cursor, statement, parameters, context)\u001b[0m\n\u001b[1;32m    732\u001b[0m \u001b[38;5;28;01mdef\u001b[39;00m\u001b[38;5;250m \u001b[39m\u001b[38;5;21mdo_executemany\u001b[39m(\u001b[38;5;28mself\u001b[39m, cursor, statement, parameters, context\u001b[38;5;241m=\u001b[39m\u001b[38;5;28;01mNone\u001b[39;00m):\n\u001b[0;32m--> 733\u001b[0m     \u001b[43mcursor\u001b[49m\u001b[38;5;241;43m.\u001b[39;49m\u001b[43mexecutemany\u001b[49m\u001b[43m(\u001b[49m\u001b[43mstatement\u001b[49m\u001b[43m,\u001b[49m\u001b[43m \u001b[49m\u001b[43mparameters\u001b[49m\u001b[43m)\u001b[49m\n",
      "\u001b[0;31mIntegrityError\u001b[0m: (sqlite3.IntegrityError) UNIQUE constraint failed: laptop.model_id\n[SQL: INSERT INTO laptop (model_id, brand, model_name, category, unit_price, min_stock, created_at, updated_at) VALUES (?, ?, ?, ?, ?, ?, ?, ?)]\n[parameters: (('apple-macbook-pro-16', <LaptopBrand.APPLE: 'Apple'>, 'MacBook Pro 16', <LaptopCategory.PREMIUM: 'premium'>, 2746.82, 10, '2025-02-21 02:15:13.655369', '2025-02-21 02:15:13.655370'), ('dell-xps-15', <LaptopBrand.DELL: 'Dell'>, 'XPS 15', <LaptopCategory.PREMIUM: 'premium'>, 1883.12, 10, '2025-02-21 02:15:13.655424', '2025-02-21 02:15:13.655424'), ('lenovo-thinkpad-x1-carbon', <LaptopBrand.LENOVO: 'Lenovo'>, 'ThinkPad X1 Carbon', <LaptopCategory.PREMIUM: 'premium'>, 2828.27, 10, '2025-02-21 02:15:13.655451', '2025-02-21 02:15:13.655451'), ('dell-latitude-5420', <LaptopBrand.DELL: 'Dell'>, 'Latitude 5420', <LaptopCategory.MIDRANGE: 'midrange'>, 972.33, 20, '2025-02-21 02:15:13.655471', '2025-02-21 02:15:13.655472'), ('hp-elitebook-840', <LaptopBrand.HP: 'HP'>, 'EliteBook 840', <LaptopCategory.MIDRANGE: 'midrange'>, 848.6, 20, '2025-02-21 02:15:13.655490', '2025-02-21 02:15:13.655490'), ('lenovo-thinkpad-t14', <LaptopBrand.LENOVO: 'Lenovo'>, 'ThinkPad T14', <LaptopCategory.MIDRANGE: 'midrange'>, 1254.5, 20, '2025-02-21 02:15:13.655510', '2025-02-21 02:15:13.655510'), ('acer-aspire-5', <LaptopBrand.ACER: 'Acer'>, 'Aspire 5', <LaptopCategory.BUDGET: 'budget'>, 562.49, 30, '2025-02-21 02:15:13.655532', '2025-02-21 02:15:13.655532'), ('asus-vivobook-15', <LaptopBrand.ASUS: 'Asus'>, 'VivoBook 15', <LaptopCategory.BUDGET: 'budget'>, 710.18, 30, '2025-02-21 02:15:13.655552', '2025-02-21 02:15:13.655552'), ('lenovo-ideapad-3', <LaptopBrand.LENOVO: 'Lenovo'>, 'IdeaPad 3', <LaptopCategory.BUDGET: 'budget'>, 506.0, 30, '2025-02-21 02:15:13.655571', '2025-02-21 02:15:13.655572'))]\n(Background on this error at: https://sqlalche.me/e/14/gkpj)"
     ]
    }
   ],
   "source": [
    "sim.initialize_simulation()"
   ]
  },
  {
   "cell_type": "code",
   "execution_count": 5,
   "metadata": {},
   "outputs": [
    {
     "data": {
      "text/html": [
       "<pre style=\"white-space:pre;overflow-x:auto;line-height:normal;font-family:Menlo,'DejaVu Sans Mono',consolas,'Courier New',monospace\">\n",
       "<span style=\"font-weight: bold\">Starting </span><span style=\"color: #008080; text-decoration-color: #008080; font-weight: bold\">7</span><span style=\"font-weight: bold\"> day simulation</span><span style=\"color: #808000; text-decoration-color: #808000; font-weight: bold\">...</span>\n",
       "</pre>\n"
      ],
      "text/plain": [
       "\n",
       "\u001b[1mStarting \u001b[0m\u001b[1;36m7\u001b[0m\u001b[1m day simulation\u001b[0m\u001b[1;33m...\u001b[0m\n"
      ]
     },
     "metadata": {},
     "output_type": "display_data"
    },
    {
     "data": {
      "text/html": [
       "<pre style=\"white-space:pre;overflow-x:auto;line-height:normal;font-family:Menlo,'DejaVu Sans Mono',consolas,'Courier New',monospace\">\n",
       "<span style=\"color: #008080; text-decoration-color: #008080; font-weight: bold\">==================================================</span>\n",
       "</pre>\n"
      ],
      "text/plain": [
       "\n",
       "\u001b[1;36m==================================================\u001b[0m\n"
      ]
     },
     "metadata": {},
     "output_type": "display_data"
    },
    {
     "data": {
      "text/html": [
       "<pre style=\"white-space:pre;overflow-x:auto;line-height:normal;font-family:Menlo,'DejaVu Sans Mono',consolas,'Courier New',monospace\"><span style=\"font-weight: bold\">Day </span><span style=\"color: #008080; text-decoration-color: #008080; font-weight: bold\">1</span><span style=\"font-weight: bold\"> of </span><span style=\"color: #008080; text-decoration-color: #008080; font-weight: bold\">7</span>\n",
       "</pre>\n"
      ],
      "text/plain": [
       "\u001b[1mDay \u001b[0m\u001b[1;36m1\u001b[0m\u001b[1m of \u001b[0m\u001b[1;36m7\u001b[0m\n"
      ]
     },
     "metadata": {},
     "output_type": "display_data"
    },
    {
     "data": {
      "text/html": [
       "<pre style=\"white-space:pre;overflow-x:auto;line-height:normal;font-family:Menlo,'DejaVu Sans Mono',consolas,'Courier New',monospace\">\n",
       "<span style=\"color: #000080; text-decoration-color: #000080; font-weight: bold\">Day Report: </span><span style=\"color: #000080; text-decoration-color: #000080; font-weight: bold\">2025</span><span style=\"color: #000080; text-decoration-color: #000080; font-weight: bold\">-</span><span style=\"color: #000080; text-decoration-color: #000080; font-weight: bold\">02</span><span style=\"color: #000080; text-decoration-color: #000080; font-weight: bold\">-</span><span style=\"color: #000080; text-decoration-color: #000080; font-weight: bold\">22</span>\n",
       "</pre>\n"
      ],
      "text/plain": [
       "\n",
       "\u001b[1;34mDay Report: \u001b[0m\u001b[1;34m2025\u001b[0m\u001b[1;34m-\u001b[0m\u001b[1;34m02\u001b[0m\u001b[1;34m-\u001b[0m\u001b[1;34m22\u001b[0m\n"
      ]
     },
     "metadata": {},
     "output_type": "display_data"
    },
    {
     "data": {
      "text/html": [
       "<pre style=\"white-space:pre;overflow-x:auto;line-height:normal;font-family:Menlo,'DejaVu Sans Mono',consolas,'Courier New',monospace\">╭───────────────── Daily Transactions ─────────────────╮\n",
       "│ ┏━━━━━━━━━━━━━━━━━━━━━━━━━━━┳━━━━━━━━━━━┳━━━━━━━━━━┓ │\n",
       "│ ┃<span style=\"color: #800080; text-decoration-color: #800080; font-weight: bold\"> Model ID                  </span>┃<span style=\"color: #800080; text-decoration-color: #800080; font-weight: bold\"> Warehouse </span>┃<span style=\"color: #800080; text-decoration-color: #800080; font-weight: bold\"> Quantity </span>┃ │\n",
       "│ ┡━━━━━━━━━━━━━━━━━━━━━━━━━━━╇━━━━━━━━━━━╇━━━━━━━━━━┩ │\n",
       "│ │ dell-xps-15               │ A         │ -1       │ │\n",
       "│ │ lenovo-thinkpad-x1-carbon │ C         │ -4       │ │\n",
       "│ │ acer-aspire-5             │ C         │ -11      │ │\n",
       "│ └───────────────────────────┴───────────┴──────────┘ │\n",
       "╰──────────────────────────────────────────────────────╯\n",
       "</pre>\n"
      ],
      "text/plain": [
       "╭───────────────── Daily Transactions ─────────────────╮\n",
       "│ ┏━━━━━━━━━━━━━━━━━━━━━━━━━━━┳━━━━━━━━━━━┳━━━━━━━━━━┓ │\n",
       "│ ┃\u001b[1;35m \u001b[0m\u001b[1;35mModel ID                 \u001b[0m\u001b[1;35m \u001b[0m┃\u001b[1;35m \u001b[0m\u001b[1;35mWarehouse\u001b[0m\u001b[1;35m \u001b[0m┃\u001b[1;35m \u001b[0m\u001b[1;35mQuantity\u001b[0m\u001b[1;35m \u001b[0m┃ │\n",
       "│ ┡━━━━━━━━━━━━━━━━━━━━━━━━━━━╇━━━━━━━━━━━╇━━━━━━━━━━┩ │\n",
       "│ │ dell-xps-15               │ A         │ -1       │ │\n",
       "│ │ lenovo-thinkpad-x1-carbon │ C         │ -4       │ │\n",
       "│ │ acer-aspire-5             │ C         │ -11      │ │\n",
       "│ └───────────────────────────┴───────────┴──────────┘ │\n",
       "╰──────────────────────────────────────────────────────╯\n"
      ]
     },
     "metadata": {},
     "output_type": "display_data"
    },
    {
     "data": {
      "text/html": [
       "<pre style=\"white-space:pre;overflow-x:auto;line-height:normal;font-family:Menlo,'DejaVu Sans Mono',consolas,'Courier New',monospace\">╭────────────────────── Current Stock Levels ──────────────────────╮\n",
       "│ ┏━━━━━━━━━━━━━━━━━━━━━━━━━━━┳━━━━━━━━━━━┳━━━━━━━━━━┳━━━━━━━━━━━┓ │\n",
       "│ ┃<span style=\"color: #008000; text-decoration-color: #008000; font-weight: bold\"> Model ID                  </span>┃<span style=\"color: #008000; text-decoration-color: #008000; font-weight: bold\"> Warehouse </span>┃<span style=\"color: #008000; text-decoration-color: #008000; font-weight: bold\"> Quantity </span>┃<span style=\"color: #008000; text-decoration-color: #008000; font-weight: bold\"> Min Stock </span>┃ │\n",
       "│ ┡━━━━━━━━━━━━━━━━━━━━━━━━━━━╇━━━━━━━━━━━╇━━━━━━━━━━╇━━━━━━━━━━━┩ │\n",
       "│ │ apple-macbook-pro-16      │ A         │ <span style=\"color: #008000; text-decoration-color: #008000\">43</span>       │ 10        │ │\n",
       "│ │ apple-macbook-pro-16      │ B         │ <span style=\"color: #008000; text-decoration-color: #008000\">27</span>       │ 10        │ │\n",
       "│ │ apple-macbook-pro-16      │ C         │ <span style=\"color: #008000; text-decoration-color: #008000\">39</span>       │ 10        │ │\n",
       "│ │ dell-xps-15               │ A         │ <span style=\"color: #008000; text-decoration-color: #008000\">39</span>       │ 10        │ │\n",
       "│ │ dell-xps-15               │ B         │ <span style=\"color: #008000; text-decoration-color: #008000\">27</span>       │ 10        │ │\n",
       "│ │ dell-xps-15               │ C         │ <span style=\"color: #008000; text-decoration-color: #008000\">29</span>       │ 10        │ │\n",
       "│ │ lenovo-thinkpad-x1-carbon │ A         │ <span style=\"color: #008000; text-decoration-color: #008000\">42</span>       │ 10        │ │\n",
       "│ │ lenovo-thinkpad-x1-carbon │ B         │ <span style=\"color: #008000; text-decoration-color: #008000\">36</span>       │ 10        │ │\n",
       "│ │ lenovo-thinkpad-x1-carbon │ C         │ <span style=\"color: #008000; text-decoration-color: #008000\">41</span>       │ 10        │ │\n",
       "│ │ dell-latitude-5420        │ A         │ <span style=\"color: #008000; text-decoration-color: #008000\">81</span>       │ 20        │ │\n",
       "│ │ dell-latitude-5420        │ B         │ <span style=\"color: #008000; text-decoration-color: #008000\">74</span>       │ 20        │ │\n",
       "│ │ dell-latitude-5420        │ C         │ <span style=\"color: #008000; text-decoration-color: #008000\">83</span>       │ 20        │ │\n",
       "│ │ hp-elitebook-840          │ A         │ <span style=\"color: #008000; text-decoration-color: #008000\">78</span>       │ 20        │ │\n",
       "│ │ hp-elitebook-840          │ B         │ <span style=\"color: #008000; text-decoration-color: #008000\">68</span>       │ 20        │ │\n",
       "│ │ hp-elitebook-840          │ C         │ <span style=\"color: #008000; text-decoration-color: #008000\">72</span>       │ 20        │ │\n",
       "│ │ lenovo-thinkpad-t14       │ A         │ <span style=\"color: #008000; text-decoration-color: #008000\">82</span>       │ 20        │ │\n",
       "│ │ lenovo-thinkpad-t14       │ B         │ <span style=\"color: #008000; text-decoration-color: #008000\">79</span>       │ 20        │ │\n",
       "│ │ lenovo-thinkpad-t14       │ C         │ <span style=\"color: #008000; text-decoration-color: #008000\">80</span>       │ 20        │ │\n",
       "│ │ acer-aspire-5             │ A         │ <span style=\"color: #008000; text-decoration-color: #008000\">151</span>      │ 30        │ │\n",
       "│ │ acer-aspire-5             │ B         │ <span style=\"color: #008000; text-decoration-color: #008000\">166</span>      │ 30        │ │\n",
       "│ │ acer-aspire-5             │ C         │ <span style=\"color: #008000; text-decoration-color: #008000\">116</span>      │ 30        │ │\n",
       "│ │ asus-vivobook-15          │ A         │ <span style=\"color: #008000; text-decoration-color: #008000\">178</span>      │ 30        │ │\n",
       "│ │ asus-vivobook-15          │ B         │ <span style=\"color: #008000; text-decoration-color: #008000\">119</span>      │ 30        │ │\n",
       "│ │ asus-vivobook-15          │ C         │ <span style=\"color: #008000; text-decoration-color: #008000\">170</span>      │ 30        │ │\n",
       "│ │ lenovo-ideapad-3          │ A         │ <span style=\"color: #008000; text-decoration-color: #008000\">157</span>      │ 30        │ │\n",
       "│ │ lenovo-ideapad-3          │ B         │ <span style=\"color: #008000; text-decoration-color: #008000\">107</span>      │ 30        │ │\n",
       "│ │ lenovo-ideapad-3          │ C         │ <span style=\"color: #008000; text-decoration-color: #008000\">116</span>      │ 30        │ │\n",
       "│ └───────────────────────────┴───────────┴──────────┴───────────┘ │\n",
       "╰──────────────────────────────────────────────────────────────────╯\n",
       "</pre>\n"
      ],
      "text/plain": [
       "╭────────────────────── Current Stock Levels ──────────────────────╮\n",
       "│ ┏━━━━━━━━━━━━━━━━━━━━━━━━━━━┳━━━━━━━━━━━┳━━━━━━━━━━┳━━━━━━━━━━━┓ │\n",
       "│ ┃\u001b[1;32m \u001b[0m\u001b[1;32mModel ID                 \u001b[0m\u001b[1;32m \u001b[0m┃\u001b[1;32m \u001b[0m\u001b[1;32mWarehouse\u001b[0m\u001b[1;32m \u001b[0m┃\u001b[1;32m \u001b[0m\u001b[1;32mQuantity\u001b[0m\u001b[1;32m \u001b[0m┃\u001b[1;32m \u001b[0m\u001b[1;32mMin Stock\u001b[0m\u001b[1;32m \u001b[0m┃ │\n",
       "│ ┡━━━━━━━━━━━━━━━━━━━━━━━━━━━╇━━━━━━━━━━━╇━━━━━━━━━━╇━━━━━━━━━━━┩ │\n",
       "│ │ apple-macbook-pro-16      │ A         │ \u001b[32m43\u001b[0m       │ 10        │ │\n",
       "│ │ apple-macbook-pro-16      │ B         │ \u001b[32m27\u001b[0m       │ 10        │ │\n",
       "│ │ apple-macbook-pro-16      │ C         │ \u001b[32m39\u001b[0m       │ 10        │ │\n",
       "│ │ dell-xps-15               │ A         │ \u001b[32m39\u001b[0m       │ 10        │ │\n",
       "│ │ dell-xps-15               │ B         │ \u001b[32m27\u001b[0m       │ 10        │ │\n",
       "│ │ dell-xps-15               │ C         │ \u001b[32m29\u001b[0m       │ 10        │ │\n",
       "│ │ lenovo-thinkpad-x1-carbon │ A         │ \u001b[32m42\u001b[0m       │ 10        │ │\n",
       "│ │ lenovo-thinkpad-x1-carbon │ B         │ \u001b[32m36\u001b[0m       │ 10        │ │\n",
       "│ │ lenovo-thinkpad-x1-carbon │ C         │ \u001b[32m41\u001b[0m       │ 10        │ │\n",
       "│ │ dell-latitude-5420        │ A         │ \u001b[32m81\u001b[0m       │ 20        │ │\n",
       "│ │ dell-latitude-5420        │ B         │ \u001b[32m74\u001b[0m       │ 20        │ │\n",
       "│ │ dell-latitude-5420        │ C         │ \u001b[32m83\u001b[0m       │ 20        │ │\n",
       "│ │ hp-elitebook-840          │ A         │ \u001b[32m78\u001b[0m       │ 20        │ │\n",
       "│ │ hp-elitebook-840          │ B         │ \u001b[32m68\u001b[0m       │ 20        │ │\n",
       "│ │ hp-elitebook-840          │ C         │ \u001b[32m72\u001b[0m       │ 20        │ │\n",
       "│ │ lenovo-thinkpad-t14       │ A         │ \u001b[32m82\u001b[0m       │ 20        │ │\n",
       "│ │ lenovo-thinkpad-t14       │ B         │ \u001b[32m79\u001b[0m       │ 20        │ │\n",
       "│ │ lenovo-thinkpad-t14       │ C         │ \u001b[32m80\u001b[0m       │ 20        │ │\n",
       "│ │ acer-aspire-5             │ A         │ \u001b[32m151\u001b[0m      │ 30        │ │\n",
       "│ │ acer-aspire-5             │ B         │ \u001b[32m166\u001b[0m      │ 30        │ │\n",
       "│ │ acer-aspire-5             │ C         │ \u001b[32m116\u001b[0m      │ 30        │ │\n",
       "│ │ asus-vivobook-15          │ A         │ \u001b[32m178\u001b[0m      │ 30        │ │\n",
       "│ │ asus-vivobook-15          │ B         │ \u001b[32m119\u001b[0m      │ 30        │ │\n",
       "│ │ asus-vivobook-15          │ C         │ \u001b[32m170\u001b[0m      │ 30        │ │\n",
       "│ │ lenovo-ideapad-3          │ A         │ \u001b[32m157\u001b[0m      │ 30        │ │\n",
       "│ │ lenovo-ideapad-3          │ B         │ \u001b[32m107\u001b[0m      │ 30        │ │\n",
       "│ │ lenovo-ideapad-3          │ C         │ \u001b[32m116\u001b[0m      │ 30        │ │\n",
       "│ └───────────────────────────┴───────────┴──────────┴───────────┘ │\n",
       "╰──────────────────────────────────────────────────────────────────╯\n"
      ]
     },
     "metadata": {},
     "output_type": "display_data"
    },
    {
     "data": {
      "text/html": [
       "<pre style=\"white-space:pre;overflow-x:auto;line-height:normal;font-family:Menlo,'DejaVu Sans Mono',consolas,'Courier New',monospace\">\n",
       "<span style=\"color: #008080; text-decoration-color: #008080; font-weight: bold\">==================================================</span>\n",
       "</pre>\n"
      ],
      "text/plain": [
       "\n",
       "\u001b[1;36m==================================================\u001b[0m\n"
      ]
     },
     "metadata": {},
     "output_type": "display_data"
    },
    {
     "data": {
      "text/html": [
       "<pre style=\"white-space:pre;overflow-x:auto;line-height:normal;font-family:Menlo,'DejaVu Sans Mono',consolas,'Courier New',monospace\"><span style=\"font-weight: bold\">Day </span><span style=\"color: #008080; text-decoration-color: #008080; font-weight: bold\">2</span><span style=\"font-weight: bold\"> of </span><span style=\"color: #008080; text-decoration-color: #008080; font-weight: bold\">7</span>\n",
       "</pre>\n"
      ],
      "text/plain": [
       "\u001b[1mDay \u001b[0m\u001b[1;36m2\u001b[0m\u001b[1m of \u001b[0m\u001b[1;36m7\u001b[0m\n"
      ]
     },
     "metadata": {},
     "output_type": "display_data"
    },
    {
     "data": {
      "text/html": [
       "<pre style=\"white-space:pre;overflow-x:auto;line-height:normal;font-family:Menlo,'DejaVu Sans Mono',consolas,'Courier New',monospace\">\n",
       "<span style=\"color: #000080; text-decoration-color: #000080; font-weight: bold\">Day Report: </span><span style=\"color: #000080; text-decoration-color: #000080; font-weight: bold\">2025</span><span style=\"color: #000080; text-decoration-color: #000080; font-weight: bold\">-</span><span style=\"color: #000080; text-decoration-color: #000080; font-weight: bold\">02</span><span style=\"color: #000080; text-decoration-color: #000080; font-weight: bold\">-</span><span style=\"color: #000080; text-decoration-color: #000080; font-weight: bold\">23</span>\n",
       "</pre>\n"
      ],
      "text/plain": [
       "\n",
       "\u001b[1;34mDay Report: \u001b[0m\u001b[1;34m2025\u001b[0m\u001b[1;34m-\u001b[0m\u001b[1;34m02\u001b[0m\u001b[1;34m-\u001b[0m\u001b[1;34m23\u001b[0m\n"
      ]
     },
     "metadata": {},
     "output_type": "display_data"
    },
    {
     "data": {
      "text/html": [
       "<pre style=\"white-space:pre;overflow-x:auto;line-height:normal;font-family:Menlo,'DejaVu Sans Mono',consolas,'Courier New',monospace\">╭────────────── Daily Transactions ───────────────╮\n",
       "│ ┏━━━━━━━━━━━━━━━━━━━━━━┳━━━━━━━━━━━┳━━━━━━━━━━┓ │\n",
       "│ ┃<span style=\"color: #800080; text-decoration-color: #800080; font-weight: bold\"> Model ID             </span>┃<span style=\"color: #800080; text-decoration-color: #800080; font-weight: bold\"> Warehouse </span>┃<span style=\"color: #800080; text-decoration-color: #800080; font-weight: bold\"> Quantity </span>┃ │\n",
       "│ ┡━━━━━━━━━━━━━━━━━━━━━━╇━━━━━━━━━━━╇━━━━━━━━━━┩ │\n",
       "│ │ apple-macbook-pro-16 │ B         │ -1       │ │\n",
       "│ │ hp-elitebook-840     │ B         │ -5       │ │\n",
       "│ │ acer-aspire-5        │ A         │ -12      │ │\n",
       "│ │ lenovo-ideapad-3     │ C         │ -11      │ │\n",
       "│ └──────────────────────┴───────────┴──────────┘ │\n",
       "╰─────────────────────────────────────────────────╯\n",
       "</pre>\n"
      ],
      "text/plain": [
       "╭────────────── Daily Transactions ───────────────╮\n",
       "│ ┏━━━━━━━━━━━━━━━━━━━━━━┳━━━━━━━━━━━┳━━━━━━━━━━┓ │\n",
       "│ ┃\u001b[1;35m \u001b[0m\u001b[1;35mModel ID            \u001b[0m\u001b[1;35m \u001b[0m┃\u001b[1;35m \u001b[0m\u001b[1;35mWarehouse\u001b[0m\u001b[1;35m \u001b[0m┃\u001b[1;35m \u001b[0m\u001b[1;35mQuantity\u001b[0m\u001b[1;35m \u001b[0m┃ │\n",
       "│ ┡━━━━━━━━━━━━━━━━━━━━━━╇━━━━━━━━━━━╇━━━━━━━━━━┩ │\n",
       "│ │ apple-macbook-pro-16 │ B         │ -1       │ │\n",
       "│ │ hp-elitebook-840     │ B         │ -5       │ │\n",
       "│ │ acer-aspire-5        │ A         │ -12      │ │\n",
       "│ │ lenovo-ideapad-3     │ C         │ -11      │ │\n",
       "│ └──────────────────────┴───────────┴──────────┘ │\n",
       "╰─────────────────────────────────────────────────╯\n"
      ]
     },
     "metadata": {},
     "output_type": "display_data"
    },
    {
     "data": {
      "text/html": [
       "<pre style=\"white-space:pre;overflow-x:auto;line-height:normal;font-family:Menlo,'DejaVu Sans Mono',consolas,'Courier New',monospace\">╭────────────────────── Current Stock Levels ──────────────────────╮\n",
       "│ ┏━━━━━━━━━━━━━━━━━━━━━━━━━━━┳━━━━━━━━━━━┳━━━━━━━━━━┳━━━━━━━━━━━┓ │\n",
       "│ ┃<span style=\"color: #008000; text-decoration-color: #008000; font-weight: bold\"> Model ID                  </span>┃<span style=\"color: #008000; text-decoration-color: #008000; font-weight: bold\"> Warehouse </span>┃<span style=\"color: #008000; text-decoration-color: #008000; font-weight: bold\"> Quantity </span>┃<span style=\"color: #008000; text-decoration-color: #008000; font-weight: bold\"> Min Stock </span>┃ │\n",
       "│ ┡━━━━━━━━━━━━━━━━━━━━━━━━━━━╇━━━━━━━━━━━╇━━━━━━━━━━╇━━━━━━━━━━━┩ │\n",
       "│ │ apple-macbook-pro-16      │ A         │ <span style=\"color: #008000; text-decoration-color: #008000\">43</span>       │ 10        │ │\n",
       "│ │ apple-macbook-pro-16      │ B         │ <span style=\"color: #008000; text-decoration-color: #008000\">26</span>       │ 10        │ │\n",
       "│ │ apple-macbook-pro-16      │ C         │ <span style=\"color: #008000; text-decoration-color: #008000\">39</span>       │ 10        │ │\n",
       "│ │ dell-xps-15               │ A         │ <span style=\"color: #008000; text-decoration-color: #008000\">39</span>       │ 10        │ │\n",
       "│ │ dell-xps-15               │ B         │ <span style=\"color: #008000; text-decoration-color: #008000\">27</span>       │ 10        │ │\n",
       "│ │ dell-xps-15               │ C         │ <span style=\"color: #008000; text-decoration-color: #008000\">29</span>       │ 10        │ │\n",
       "│ │ lenovo-thinkpad-x1-carbon │ A         │ <span style=\"color: #008000; text-decoration-color: #008000\">42</span>       │ 10        │ │\n",
       "│ │ lenovo-thinkpad-x1-carbon │ B         │ <span style=\"color: #008000; text-decoration-color: #008000\">36</span>       │ 10        │ │\n",
       "│ │ lenovo-thinkpad-x1-carbon │ C         │ <span style=\"color: #008000; text-decoration-color: #008000\">41</span>       │ 10        │ │\n",
       "│ │ dell-latitude-5420        │ A         │ <span style=\"color: #008000; text-decoration-color: #008000\">81</span>       │ 20        │ │\n",
       "│ │ dell-latitude-5420        │ B         │ <span style=\"color: #008000; text-decoration-color: #008000\">74</span>       │ 20        │ │\n",
       "│ │ dell-latitude-5420        │ C         │ <span style=\"color: #008000; text-decoration-color: #008000\">83</span>       │ 20        │ │\n",
       "│ │ hp-elitebook-840          │ A         │ <span style=\"color: #008000; text-decoration-color: #008000\">78</span>       │ 20        │ │\n",
       "│ │ hp-elitebook-840          │ B         │ <span style=\"color: #008000; text-decoration-color: #008000\">63</span>       │ 20        │ │\n",
       "│ │ hp-elitebook-840          │ C         │ <span style=\"color: #008000; text-decoration-color: #008000\">72</span>       │ 20        │ │\n",
       "│ │ lenovo-thinkpad-t14       │ A         │ <span style=\"color: #008000; text-decoration-color: #008000\">82</span>       │ 20        │ │\n",
       "│ │ lenovo-thinkpad-t14       │ B         │ <span style=\"color: #008000; text-decoration-color: #008000\">79</span>       │ 20        │ │\n",
       "│ │ lenovo-thinkpad-t14       │ C         │ <span style=\"color: #008000; text-decoration-color: #008000\">80</span>       │ 20        │ │\n",
       "│ │ acer-aspire-5             │ A         │ <span style=\"color: #008000; text-decoration-color: #008000\">139</span>      │ 30        │ │\n",
       "│ │ acer-aspire-5             │ B         │ <span style=\"color: #008000; text-decoration-color: #008000\">166</span>      │ 30        │ │\n",
       "│ │ acer-aspire-5             │ C         │ <span style=\"color: #008000; text-decoration-color: #008000\">116</span>      │ 30        │ │\n",
       "│ │ asus-vivobook-15          │ A         │ <span style=\"color: #008000; text-decoration-color: #008000\">178</span>      │ 30        │ │\n",
       "│ │ asus-vivobook-15          │ B         │ <span style=\"color: #008000; text-decoration-color: #008000\">119</span>      │ 30        │ │\n",
       "│ │ asus-vivobook-15          │ C         │ <span style=\"color: #008000; text-decoration-color: #008000\">170</span>      │ 30        │ │\n",
       "│ │ lenovo-ideapad-3          │ A         │ <span style=\"color: #008000; text-decoration-color: #008000\">157</span>      │ 30        │ │\n",
       "│ │ lenovo-ideapad-3          │ B         │ <span style=\"color: #008000; text-decoration-color: #008000\">107</span>      │ 30        │ │\n",
       "│ │ lenovo-ideapad-3          │ C         │ <span style=\"color: #008000; text-decoration-color: #008000\">105</span>      │ 30        │ │\n",
       "│ └───────────────────────────┴───────────┴──────────┴───────────┘ │\n",
       "╰──────────────────────────────────────────────────────────────────╯\n",
       "</pre>\n"
      ],
      "text/plain": [
       "╭────────────────────── Current Stock Levels ──────────────────────╮\n",
       "│ ┏━━━━━━━━━━━━━━━━━━━━━━━━━━━┳━━━━━━━━━━━┳━━━━━━━━━━┳━━━━━━━━━━━┓ │\n",
       "│ ┃\u001b[1;32m \u001b[0m\u001b[1;32mModel ID                 \u001b[0m\u001b[1;32m \u001b[0m┃\u001b[1;32m \u001b[0m\u001b[1;32mWarehouse\u001b[0m\u001b[1;32m \u001b[0m┃\u001b[1;32m \u001b[0m\u001b[1;32mQuantity\u001b[0m\u001b[1;32m \u001b[0m┃\u001b[1;32m \u001b[0m\u001b[1;32mMin Stock\u001b[0m\u001b[1;32m \u001b[0m┃ │\n",
       "│ ┡━━━━━━━━━━━━━━━━━━━━━━━━━━━╇━━━━━━━━━━━╇━━━━━━━━━━╇━━━━━━━━━━━┩ │\n",
       "│ │ apple-macbook-pro-16      │ A         │ \u001b[32m43\u001b[0m       │ 10        │ │\n",
       "│ │ apple-macbook-pro-16      │ B         │ \u001b[32m26\u001b[0m       │ 10        │ │\n",
       "│ │ apple-macbook-pro-16      │ C         │ \u001b[32m39\u001b[0m       │ 10        │ │\n",
       "│ │ dell-xps-15               │ A         │ \u001b[32m39\u001b[0m       │ 10        │ │\n",
       "│ │ dell-xps-15               │ B         │ \u001b[32m27\u001b[0m       │ 10        │ │\n",
       "│ │ dell-xps-15               │ C         │ \u001b[32m29\u001b[0m       │ 10        │ │\n",
       "│ │ lenovo-thinkpad-x1-carbon │ A         │ \u001b[32m42\u001b[0m       │ 10        │ │\n",
       "│ │ lenovo-thinkpad-x1-carbon │ B         │ \u001b[32m36\u001b[0m       │ 10        │ │\n",
       "│ │ lenovo-thinkpad-x1-carbon │ C         │ \u001b[32m41\u001b[0m       │ 10        │ │\n",
       "│ │ dell-latitude-5420        │ A         │ \u001b[32m81\u001b[0m       │ 20        │ │\n",
       "│ │ dell-latitude-5420        │ B         │ \u001b[32m74\u001b[0m       │ 20        │ │\n",
       "│ │ dell-latitude-5420        │ C         │ \u001b[32m83\u001b[0m       │ 20        │ │\n",
       "│ │ hp-elitebook-840          │ A         │ \u001b[32m78\u001b[0m       │ 20        │ │\n",
       "│ │ hp-elitebook-840          │ B         │ \u001b[32m63\u001b[0m       │ 20        │ │\n",
       "│ │ hp-elitebook-840          │ C         │ \u001b[32m72\u001b[0m       │ 20        │ │\n",
       "│ │ lenovo-thinkpad-t14       │ A         │ \u001b[32m82\u001b[0m       │ 20        │ │\n",
       "│ │ lenovo-thinkpad-t14       │ B         │ \u001b[32m79\u001b[0m       │ 20        │ │\n",
       "│ │ lenovo-thinkpad-t14       │ C         │ \u001b[32m80\u001b[0m       │ 20        │ │\n",
       "│ │ acer-aspire-5             │ A         │ \u001b[32m139\u001b[0m      │ 30        │ │\n",
       "│ │ acer-aspire-5             │ B         │ \u001b[32m166\u001b[0m      │ 30        │ │\n",
       "│ │ acer-aspire-5             │ C         │ \u001b[32m116\u001b[0m      │ 30        │ │\n",
       "│ │ asus-vivobook-15          │ A         │ \u001b[32m178\u001b[0m      │ 30        │ │\n",
       "│ │ asus-vivobook-15          │ B         │ \u001b[32m119\u001b[0m      │ 30        │ │\n",
       "│ │ asus-vivobook-15          │ C         │ \u001b[32m170\u001b[0m      │ 30        │ │\n",
       "│ │ lenovo-ideapad-3          │ A         │ \u001b[32m157\u001b[0m      │ 30        │ │\n",
       "│ │ lenovo-ideapad-3          │ B         │ \u001b[32m107\u001b[0m      │ 30        │ │\n",
       "│ │ lenovo-ideapad-3          │ C         │ \u001b[32m105\u001b[0m      │ 30        │ │\n",
       "│ └───────────────────────────┴───────────┴──────────┴───────────┘ │\n",
       "╰──────────────────────────────────────────────────────────────────╯\n"
      ]
     },
     "metadata": {},
     "output_type": "display_data"
    },
    {
     "data": {
      "text/html": [
       "<pre style=\"white-space:pre;overflow-x:auto;line-height:normal;font-family:Menlo,'DejaVu Sans Mono',consolas,'Courier New',monospace\">\n",
       "<span style=\"color: #008080; text-decoration-color: #008080; font-weight: bold\">==================================================</span>\n",
       "</pre>\n"
      ],
      "text/plain": [
       "\n",
       "\u001b[1;36m==================================================\u001b[0m\n"
      ]
     },
     "metadata": {},
     "output_type": "display_data"
    },
    {
     "data": {
      "text/html": [
       "<pre style=\"white-space:pre;overflow-x:auto;line-height:normal;font-family:Menlo,'DejaVu Sans Mono',consolas,'Courier New',monospace\"><span style=\"font-weight: bold\">Day </span><span style=\"color: #008080; text-decoration-color: #008080; font-weight: bold\">3</span><span style=\"font-weight: bold\"> of </span><span style=\"color: #008080; text-decoration-color: #008080; font-weight: bold\">7</span>\n",
       "</pre>\n"
      ],
      "text/plain": [
       "\u001b[1mDay \u001b[0m\u001b[1;36m3\u001b[0m\u001b[1m of \u001b[0m\u001b[1;36m7\u001b[0m\n"
      ]
     },
     "metadata": {},
     "output_type": "display_data"
    },
    {
     "data": {
      "text/html": [
       "<pre style=\"white-space:pre;overflow-x:auto;line-height:normal;font-family:Menlo,'DejaVu Sans Mono',consolas,'Courier New',monospace\">\n",
       "<span style=\"color: #000080; text-decoration-color: #000080; font-weight: bold\">Day Report: </span><span style=\"color: #000080; text-decoration-color: #000080; font-weight: bold\">2025</span><span style=\"color: #000080; text-decoration-color: #000080; font-weight: bold\">-</span><span style=\"color: #000080; text-decoration-color: #000080; font-weight: bold\">02</span><span style=\"color: #000080; text-decoration-color: #000080; font-weight: bold\">-</span><span style=\"color: #000080; text-decoration-color: #000080; font-weight: bold\">24</span>\n",
       "</pre>\n"
      ],
      "text/plain": [
       "\n",
       "\u001b[1;34mDay Report: \u001b[0m\u001b[1;34m2025\u001b[0m\u001b[1;34m-\u001b[0m\u001b[1;34m02\u001b[0m\u001b[1;34m-\u001b[0m\u001b[1;34m24\u001b[0m\n"
      ]
     },
     "metadata": {},
     "output_type": "display_data"
    },
    {
     "data": {
      "text/html": [
       "<pre style=\"white-space:pre;overflow-x:auto;line-height:normal;font-family:Menlo,'DejaVu Sans Mono',consolas,'Courier New',monospace\">╭────────────── Daily Transactions ───────────────╮\n",
       "│ ┏━━━━━━━━━━━━━━━━━━━━━━┳━━━━━━━━━━━┳━━━━━━━━━━┓ │\n",
       "│ ┃<span style=\"color: #800080; text-decoration-color: #800080; font-weight: bold\"> Model ID             </span>┃<span style=\"color: #800080; text-decoration-color: #800080; font-weight: bold\"> Warehouse </span>┃<span style=\"color: #800080; text-decoration-color: #800080; font-weight: bold\"> Quantity </span>┃ │\n",
       "│ ┡━━━━━━━━━━━━━━━━━━━━━━╇━━━━━━━━━━━╇━━━━━━━━━━┩ │\n",
       "│ │ apple-macbook-pro-16 │ A         │ -3       │ │\n",
       "│ │ acer-aspire-5        │ B         │ -22      │ │\n",
       "│ │ asus-vivobook-15     │ A         │ -30      │ │\n",
       "│ │ lenovo-ideapad-3     │ B         │ -27      │ │\n",
       "│ └──────────────────────┴───────────┴──────────┘ │\n",
       "╰─────────────────────────────────────────────────╯\n",
       "</pre>\n"
      ],
      "text/plain": [
       "╭────────────── Daily Transactions ───────────────╮\n",
       "│ ┏━━━━━━━━━━━━━━━━━━━━━━┳━━━━━━━━━━━┳━━━━━━━━━━┓ │\n",
       "│ ┃\u001b[1;35m \u001b[0m\u001b[1;35mModel ID            \u001b[0m\u001b[1;35m \u001b[0m┃\u001b[1;35m \u001b[0m\u001b[1;35mWarehouse\u001b[0m\u001b[1;35m \u001b[0m┃\u001b[1;35m \u001b[0m\u001b[1;35mQuantity\u001b[0m\u001b[1;35m \u001b[0m┃ │\n",
       "│ ┡━━━━━━━━━━━━━━━━━━━━━━╇━━━━━━━━━━━╇━━━━━━━━━━┩ │\n",
       "│ │ apple-macbook-pro-16 │ A         │ -3       │ │\n",
       "│ │ acer-aspire-5        │ B         │ -22      │ │\n",
       "│ │ asus-vivobook-15     │ A         │ -30      │ │\n",
       "│ │ lenovo-ideapad-3     │ B         │ -27      │ │\n",
       "│ └──────────────────────┴───────────┴──────────┘ │\n",
       "╰─────────────────────────────────────────────────╯\n"
      ]
     },
     "metadata": {},
     "output_type": "display_data"
    },
    {
     "data": {
      "text/html": [
       "<pre style=\"white-space:pre;overflow-x:auto;line-height:normal;font-family:Menlo,'DejaVu Sans Mono',consolas,'Courier New',monospace\">╭────────────────────── Current Stock Levels ──────────────────────╮\n",
       "│ ┏━━━━━━━━━━━━━━━━━━━━━━━━━━━┳━━━━━━━━━━━┳━━━━━━━━━━┳━━━━━━━━━━━┓ │\n",
       "│ ┃<span style=\"color: #008000; text-decoration-color: #008000; font-weight: bold\"> Model ID                  </span>┃<span style=\"color: #008000; text-decoration-color: #008000; font-weight: bold\"> Warehouse </span>┃<span style=\"color: #008000; text-decoration-color: #008000; font-weight: bold\"> Quantity </span>┃<span style=\"color: #008000; text-decoration-color: #008000; font-weight: bold\"> Min Stock </span>┃ │\n",
       "│ ┡━━━━━━━━━━━━━━━━━━━━━━━━━━━╇━━━━━━━━━━━╇━━━━━━━━━━╇━━━━━━━━━━━┩ │\n",
       "│ │ apple-macbook-pro-16      │ A         │ <span style=\"color: #008000; text-decoration-color: #008000\">40</span>       │ 10        │ │\n",
       "│ │ apple-macbook-pro-16      │ B         │ <span style=\"color: #008000; text-decoration-color: #008000\">26</span>       │ 10        │ │\n",
       "│ │ apple-macbook-pro-16      │ C         │ <span style=\"color: #008000; text-decoration-color: #008000\">39</span>       │ 10        │ │\n",
       "│ │ dell-xps-15               │ A         │ <span style=\"color: #008000; text-decoration-color: #008000\">39</span>       │ 10        │ │\n",
       "│ │ dell-xps-15               │ B         │ <span style=\"color: #008000; text-decoration-color: #008000\">27</span>       │ 10        │ │\n",
       "│ │ dell-xps-15               │ C         │ <span style=\"color: #008000; text-decoration-color: #008000\">29</span>       │ 10        │ │\n",
       "│ │ lenovo-thinkpad-x1-carbon │ A         │ <span style=\"color: #008000; text-decoration-color: #008000\">42</span>       │ 10        │ │\n",
       "│ │ lenovo-thinkpad-x1-carbon │ B         │ <span style=\"color: #008000; text-decoration-color: #008000\">36</span>       │ 10        │ │\n",
       "│ │ lenovo-thinkpad-x1-carbon │ C         │ <span style=\"color: #008000; text-decoration-color: #008000\">41</span>       │ 10        │ │\n",
       "│ │ dell-latitude-5420        │ A         │ <span style=\"color: #008000; text-decoration-color: #008000\">81</span>       │ 20        │ │\n",
       "│ │ dell-latitude-5420        │ B         │ <span style=\"color: #008000; text-decoration-color: #008000\">74</span>       │ 20        │ │\n",
       "│ │ dell-latitude-5420        │ C         │ <span style=\"color: #008000; text-decoration-color: #008000\">83</span>       │ 20        │ │\n",
       "│ │ hp-elitebook-840          │ A         │ <span style=\"color: #008000; text-decoration-color: #008000\">78</span>       │ 20        │ │\n",
       "│ │ hp-elitebook-840          │ B         │ <span style=\"color: #008000; text-decoration-color: #008000\">63</span>       │ 20        │ │\n",
       "│ │ hp-elitebook-840          │ C         │ <span style=\"color: #008000; text-decoration-color: #008000\">72</span>       │ 20        │ │\n",
       "│ │ lenovo-thinkpad-t14       │ A         │ <span style=\"color: #008000; text-decoration-color: #008000\">82</span>       │ 20        │ │\n",
       "│ │ lenovo-thinkpad-t14       │ B         │ <span style=\"color: #008000; text-decoration-color: #008000\">79</span>       │ 20        │ │\n",
       "│ │ lenovo-thinkpad-t14       │ C         │ <span style=\"color: #008000; text-decoration-color: #008000\">80</span>       │ 20        │ │\n",
       "│ │ acer-aspire-5             │ A         │ <span style=\"color: #008000; text-decoration-color: #008000\">139</span>      │ 30        │ │\n",
       "│ │ acer-aspire-5             │ B         │ <span style=\"color: #008000; text-decoration-color: #008000\">144</span>      │ 30        │ │\n",
       "│ │ acer-aspire-5             │ C         │ <span style=\"color: #008000; text-decoration-color: #008000\">116</span>      │ 30        │ │\n",
       "│ │ asus-vivobook-15          │ A         │ <span style=\"color: #008000; text-decoration-color: #008000\">148</span>      │ 30        │ │\n",
       "│ │ asus-vivobook-15          │ B         │ <span style=\"color: #008000; text-decoration-color: #008000\">119</span>      │ 30        │ │\n",
       "│ │ asus-vivobook-15          │ C         │ <span style=\"color: #008000; text-decoration-color: #008000\">170</span>      │ 30        │ │\n",
       "│ │ lenovo-ideapad-3          │ A         │ <span style=\"color: #008000; text-decoration-color: #008000\">157</span>      │ 30        │ │\n",
       "│ │ lenovo-ideapad-3          │ B         │ <span style=\"color: #008000; text-decoration-color: #008000\">80</span>       │ 30        │ │\n",
       "│ │ lenovo-ideapad-3          │ C         │ <span style=\"color: #008000; text-decoration-color: #008000\">105</span>      │ 30        │ │\n",
       "│ └───────────────────────────┴───────────┴──────────┴───────────┘ │\n",
       "╰──────────────────────────────────────────────────────────────────╯\n",
       "</pre>\n"
      ],
      "text/plain": [
       "╭────────────────────── Current Stock Levels ──────────────────────╮\n",
       "│ ┏━━━━━━━━━━━━━━━━━━━━━━━━━━━┳━━━━━━━━━━━┳━━━━━━━━━━┳━━━━━━━━━━━┓ │\n",
       "│ ┃\u001b[1;32m \u001b[0m\u001b[1;32mModel ID                 \u001b[0m\u001b[1;32m \u001b[0m┃\u001b[1;32m \u001b[0m\u001b[1;32mWarehouse\u001b[0m\u001b[1;32m \u001b[0m┃\u001b[1;32m \u001b[0m\u001b[1;32mQuantity\u001b[0m\u001b[1;32m \u001b[0m┃\u001b[1;32m \u001b[0m\u001b[1;32mMin Stock\u001b[0m\u001b[1;32m \u001b[0m┃ │\n",
       "│ ┡━━━━━━━━━━━━━━━━━━━━━━━━━━━╇━━━━━━━━━━━╇━━━━━━━━━━╇━━━━━━━━━━━┩ │\n",
       "│ │ apple-macbook-pro-16      │ A         │ \u001b[32m40\u001b[0m       │ 10        │ │\n",
       "│ │ apple-macbook-pro-16      │ B         │ \u001b[32m26\u001b[0m       │ 10        │ │\n",
       "│ │ apple-macbook-pro-16      │ C         │ \u001b[32m39\u001b[0m       │ 10        │ │\n",
       "│ │ dell-xps-15               │ A         │ \u001b[32m39\u001b[0m       │ 10        │ │\n",
       "│ │ dell-xps-15               │ B         │ \u001b[32m27\u001b[0m       │ 10        │ │\n",
       "│ │ dell-xps-15               │ C         │ \u001b[32m29\u001b[0m       │ 10        │ │\n",
       "│ │ lenovo-thinkpad-x1-carbon │ A         │ \u001b[32m42\u001b[0m       │ 10        │ │\n",
       "│ │ lenovo-thinkpad-x1-carbon │ B         │ \u001b[32m36\u001b[0m       │ 10        │ │\n",
       "│ │ lenovo-thinkpad-x1-carbon │ C         │ \u001b[32m41\u001b[0m       │ 10        │ │\n",
       "│ │ dell-latitude-5420        │ A         │ \u001b[32m81\u001b[0m       │ 20        │ │\n",
       "│ │ dell-latitude-5420        │ B         │ \u001b[32m74\u001b[0m       │ 20        │ │\n",
       "│ │ dell-latitude-5420        │ C         │ \u001b[32m83\u001b[0m       │ 20        │ │\n",
       "│ │ hp-elitebook-840          │ A         │ \u001b[32m78\u001b[0m       │ 20        │ │\n",
       "│ │ hp-elitebook-840          │ B         │ \u001b[32m63\u001b[0m       │ 20        │ │\n",
       "│ │ hp-elitebook-840          │ C         │ \u001b[32m72\u001b[0m       │ 20        │ │\n",
       "│ │ lenovo-thinkpad-t14       │ A         │ \u001b[32m82\u001b[0m       │ 20        │ │\n",
       "│ │ lenovo-thinkpad-t14       │ B         │ \u001b[32m79\u001b[0m       │ 20        │ │\n",
       "│ │ lenovo-thinkpad-t14       │ C         │ \u001b[32m80\u001b[0m       │ 20        │ │\n",
       "│ │ acer-aspire-5             │ A         │ \u001b[32m139\u001b[0m      │ 30        │ │\n",
       "│ │ acer-aspire-5             │ B         │ \u001b[32m144\u001b[0m      │ 30        │ │\n",
       "│ │ acer-aspire-5             │ C         │ \u001b[32m116\u001b[0m      │ 30        │ │\n",
       "│ │ asus-vivobook-15          │ A         │ \u001b[32m148\u001b[0m      │ 30        │ │\n",
       "│ │ asus-vivobook-15          │ B         │ \u001b[32m119\u001b[0m      │ 30        │ │\n",
       "│ │ asus-vivobook-15          │ C         │ \u001b[32m170\u001b[0m      │ 30        │ │\n",
       "│ │ lenovo-ideapad-3          │ A         │ \u001b[32m157\u001b[0m      │ 30        │ │\n",
       "│ │ lenovo-ideapad-3          │ B         │ \u001b[32m80\u001b[0m       │ 30        │ │\n",
       "│ │ lenovo-ideapad-3          │ C         │ \u001b[32m105\u001b[0m      │ 30        │ │\n",
       "│ └───────────────────────────┴───────────┴──────────┴───────────┘ │\n",
       "╰──────────────────────────────────────────────────────────────────╯\n"
      ]
     },
     "metadata": {},
     "output_type": "display_data"
    },
    {
     "data": {
      "text/html": [
       "<pre style=\"white-space:pre;overflow-x:auto;line-height:normal;font-family:Menlo,'DejaVu Sans Mono',consolas,'Courier New',monospace\">\n",
       "<span style=\"color: #008080; text-decoration-color: #008080; font-weight: bold\">==================================================</span>\n",
       "</pre>\n"
      ],
      "text/plain": [
       "\n",
       "\u001b[1;36m==================================================\u001b[0m\n"
      ]
     },
     "metadata": {},
     "output_type": "display_data"
    },
    {
     "data": {
      "text/html": [
       "<pre style=\"white-space:pre;overflow-x:auto;line-height:normal;font-family:Menlo,'DejaVu Sans Mono',consolas,'Courier New',monospace\"><span style=\"font-weight: bold\">Day </span><span style=\"color: #008080; text-decoration-color: #008080; font-weight: bold\">4</span><span style=\"font-weight: bold\"> of </span><span style=\"color: #008080; text-decoration-color: #008080; font-weight: bold\">7</span>\n",
       "</pre>\n"
      ],
      "text/plain": [
       "\u001b[1mDay \u001b[0m\u001b[1;36m4\u001b[0m\u001b[1m of \u001b[0m\u001b[1;36m7\u001b[0m\n"
      ]
     },
     "metadata": {},
     "output_type": "display_data"
    },
    {
     "data": {
      "text/html": [
       "<pre style=\"white-space:pre;overflow-x:auto;line-height:normal;font-family:Menlo,'DejaVu Sans Mono',consolas,'Courier New',monospace\">\n",
       "<span style=\"color: #000080; text-decoration-color: #000080; font-weight: bold\">Day Report: </span><span style=\"color: #000080; text-decoration-color: #000080; font-weight: bold\">2025</span><span style=\"color: #000080; text-decoration-color: #000080; font-weight: bold\">-</span><span style=\"color: #000080; text-decoration-color: #000080; font-weight: bold\">02</span><span style=\"color: #000080; text-decoration-color: #000080; font-weight: bold\">-</span><span style=\"color: #000080; text-decoration-color: #000080; font-weight: bold\">25</span>\n",
       "</pre>\n"
      ],
      "text/plain": [
       "\n",
       "\u001b[1;34mDay Report: \u001b[0m\u001b[1;34m2025\u001b[0m\u001b[1;34m-\u001b[0m\u001b[1;34m02\u001b[0m\u001b[1;34m-\u001b[0m\u001b[1;34m25\u001b[0m\n"
      ]
     },
     "metadata": {},
     "output_type": "display_data"
    },
    {
     "data": {
      "text/html": [
       "<pre style=\"white-space:pre;overflow-x:auto;line-height:normal;font-family:Menlo,'DejaVu Sans Mono',consolas,'Courier New',monospace\">╭──────────── Daily Transactions ─────────────╮\n",
       "│ ┏━━━━━━━━━━━━━━━━━━┳━━━━━━━━━━━┳━━━━━━━━━━┓ │\n",
       "│ ┃<span style=\"color: #800080; text-decoration-color: #800080; font-weight: bold\"> Model ID         </span>┃<span style=\"color: #800080; text-decoration-color: #800080; font-weight: bold\"> Warehouse </span>┃<span style=\"color: #800080; text-decoration-color: #800080; font-weight: bold\"> Quantity </span>┃ │\n",
       "│ ┡━━━━━━━━━━━━━━━━━━╇━━━━━━━━━━━╇━━━━━━━━━━┩ │\n",
       "│ │ hp-elitebook-840 │ C         │ -13      │ │\n",
       "│ │ acer-aspire-5    │ C         │ -20      │ │\n",
       "│ └──────────────────┴───────────┴──────────┘ │\n",
       "╰─────────────────────────────────────────────╯\n",
       "</pre>\n"
      ],
      "text/plain": [
       "╭──────────── Daily Transactions ─────────────╮\n",
       "│ ┏━━━━━━━━━━━━━━━━━━┳━━━━━━━━━━━┳━━━━━━━━━━┓ │\n",
       "│ ┃\u001b[1;35m \u001b[0m\u001b[1;35mModel ID        \u001b[0m\u001b[1;35m \u001b[0m┃\u001b[1;35m \u001b[0m\u001b[1;35mWarehouse\u001b[0m\u001b[1;35m \u001b[0m┃\u001b[1;35m \u001b[0m\u001b[1;35mQuantity\u001b[0m\u001b[1;35m \u001b[0m┃ │\n",
       "│ ┡━━━━━━━━━━━━━━━━━━╇━━━━━━━━━━━╇━━━━━━━━━━┩ │\n",
       "│ │ hp-elitebook-840 │ C         │ -13      │ │\n",
       "│ │ acer-aspire-5    │ C         │ -20      │ │\n",
       "│ └──────────────────┴───────────┴──────────┘ │\n",
       "╰─────────────────────────────────────────────╯\n"
      ]
     },
     "metadata": {},
     "output_type": "display_data"
    },
    {
     "data": {
      "text/html": [
       "<pre style=\"white-space:pre;overflow-x:auto;line-height:normal;font-family:Menlo,'DejaVu Sans Mono',consolas,'Courier New',monospace\">╭────────────────────── Current Stock Levels ──────────────────────╮\n",
       "│ ┏━━━━━━━━━━━━━━━━━━━━━━━━━━━┳━━━━━━━━━━━┳━━━━━━━━━━┳━━━━━━━━━━━┓ │\n",
       "│ ┃<span style=\"color: #008000; text-decoration-color: #008000; font-weight: bold\"> Model ID                  </span>┃<span style=\"color: #008000; text-decoration-color: #008000; font-weight: bold\"> Warehouse </span>┃<span style=\"color: #008000; text-decoration-color: #008000; font-weight: bold\"> Quantity </span>┃<span style=\"color: #008000; text-decoration-color: #008000; font-weight: bold\"> Min Stock </span>┃ │\n",
       "│ ┡━━━━━━━━━━━━━━━━━━━━━━━━━━━╇━━━━━━━━━━━╇━━━━━━━━━━╇━━━━━━━━━━━┩ │\n",
       "│ │ apple-macbook-pro-16      │ A         │ <span style=\"color: #008000; text-decoration-color: #008000\">40</span>       │ 10        │ │\n",
       "│ │ apple-macbook-pro-16      │ B         │ <span style=\"color: #008000; text-decoration-color: #008000\">26</span>       │ 10        │ │\n",
       "│ │ apple-macbook-pro-16      │ C         │ <span style=\"color: #008000; text-decoration-color: #008000\">39</span>       │ 10        │ │\n",
       "│ │ dell-xps-15               │ A         │ <span style=\"color: #008000; text-decoration-color: #008000\">39</span>       │ 10        │ │\n",
       "│ │ dell-xps-15               │ B         │ <span style=\"color: #008000; text-decoration-color: #008000\">27</span>       │ 10        │ │\n",
       "│ │ dell-xps-15               │ C         │ <span style=\"color: #008000; text-decoration-color: #008000\">29</span>       │ 10        │ │\n",
       "│ │ lenovo-thinkpad-x1-carbon │ A         │ <span style=\"color: #008000; text-decoration-color: #008000\">42</span>       │ 10        │ │\n",
       "│ │ lenovo-thinkpad-x1-carbon │ B         │ <span style=\"color: #008000; text-decoration-color: #008000\">36</span>       │ 10        │ │\n",
       "│ │ lenovo-thinkpad-x1-carbon │ C         │ <span style=\"color: #008000; text-decoration-color: #008000\">41</span>       │ 10        │ │\n",
       "│ │ dell-latitude-5420        │ A         │ <span style=\"color: #008000; text-decoration-color: #008000\">81</span>       │ 20        │ │\n",
       "│ │ dell-latitude-5420        │ B         │ <span style=\"color: #008000; text-decoration-color: #008000\">74</span>       │ 20        │ │\n",
       "│ │ dell-latitude-5420        │ C         │ <span style=\"color: #008000; text-decoration-color: #008000\">83</span>       │ 20        │ │\n",
       "│ │ hp-elitebook-840          │ A         │ <span style=\"color: #008000; text-decoration-color: #008000\">78</span>       │ 20        │ │\n",
       "│ │ hp-elitebook-840          │ B         │ <span style=\"color: #008000; text-decoration-color: #008000\">63</span>       │ 20        │ │\n",
       "│ │ hp-elitebook-840          │ C         │ <span style=\"color: #008000; text-decoration-color: #008000\">59</span>       │ 20        │ │\n",
       "│ │ lenovo-thinkpad-t14       │ A         │ <span style=\"color: #008000; text-decoration-color: #008000\">82</span>       │ 20        │ │\n",
       "│ │ lenovo-thinkpad-t14       │ B         │ <span style=\"color: #008000; text-decoration-color: #008000\">79</span>       │ 20        │ │\n",
       "│ │ lenovo-thinkpad-t14       │ C         │ <span style=\"color: #008000; text-decoration-color: #008000\">80</span>       │ 20        │ │\n",
       "│ │ acer-aspire-5             │ A         │ <span style=\"color: #008000; text-decoration-color: #008000\">139</span>      │ 30        │ │\n",
       "│ │ acer-aspire-5             │ B         │ <span style=\"color: #008000; text-decoration-color: #008000\">144</span>      │ 30        │ │\n",
       "│ │ acer-aspire-5             │ C         │ <span style=\"color: #008000; text-decoration-color: #008000\">96</span>       │ 30        │ │\n",
       "│ │ asus-vivobook-15          │ A         │ <span style=\"color: #008000; text-decoration-color: #008000\">148</span>      │ 30        │ │\n",
       "│ │ asus-vivobook-15          │ B         │ <span style=\"color: #008000; text-decoration-color: #008000\">119</span>      │ 30        │ │\n",
       "│ │ asus-vivobook-15          │ C         │ <span style=\"color: #008000; text-decoration-color: #008000\">170</span>      │ 30        │ │\n",
       "│ │ lenovo-ideapad-3          │ A         │ <span style=\"color: #008000; text-decoration-color: #008000\">157</span>      │ 30        │ │\n",
       "│ │ lenovo-ideapad-3          │ B         │ <span style=\"color: #008000; text-decoration-color: #008000\">80</span>       │ 30        │ │\n",
       "│ │ lenovo-ideapad-3          │ C         │ <span style=\"color: #008000; text-decoration-color: #008000\">105</span>      │ 30        │ │\n",
       "│ └───────────────────────────┴───────────┴──────────┴───────────┘ │\n",
       "╰──────────────────────────────────────────────────────────────────╯\n",
       "</pre>\n"
      ],
      "text/plain": [
       "╭────────────────────── Current Stock Levels ──────────────────────╮\n",
       "│ ┏━━━━━━━━━━━━━━━━━━━━━━━━━━━┳━━━━━━━━━━━┳━━━━━━━━━━┳━━━━━━━━━━━┓ │\n",
       "│ ┃\u001b[1;32m \u001b[0m\u001b[1;32mModel ID                 \u001b[0m\u001b[1;32m \u001b[0m┃\u001b[1;32m \u001b[0m\u001b[1;32mWarehouse\u001b[0m\u001b[1;32m \u001b[0m┃\u001b[1;32m \u001b[0m\u001b[1;32mQuantity\u001b[0m\u001b[1;32m \u001b[0m┃\u001b[1;32m \u001b[0m\u001b[1;32mMin Stock\u001b[0m\u001b[1;32m \u001b[0m┃ │\n",
       "│ ┡━━━━━━━━━━━━━━━━━━━━━━━━━━━╇━━━━━━━━━━━╇━━━━━━━━━━╇━━━━━━━━━━━┩ │\n",
       "│ │ apple-macbook-pro-16      │ A         │ \u001b[32m40\u001b[0m       │ 10        │ │\n",
       "│ │ apple-macbook-pro-16      │ B         │ \u001b[32m26\u001b[0m       │ 10        │ │\n",
       "│ │ apple-macbook-pro-16      │ C         │ \u001b[32m39\u001b[0m       │ 10        │ │\n",
       "│ │ dell-xps-15               │ A         │ \u001b[32m39\u001b[0m       │ 10        │ │\n",
       "│ │ dell-xps-15               │ B         │ \u001b[32m27\u001b[0m       │ 10        │ │\n",
       "│ │ dell-xps-15               │ C         │ \u001b[32m29\u001b[0m       │ 10        │ │\n",
       "│ │ lenovo-thinkpad-x1-carbon │ A         │ \u001b[32m42\u001b[0m       │ 10        │ │\n",
       "│ │ lenovo-thinkpad-x1-carbon │ B         │ \u001b[32m36\u001b[0m       │ 10        │ │\n",
       "│ │ lenovo-thinkpad-x1-carbon │ C         │ \u001b[32m41\u001b[0m       │ 10        │ │\n",
       "│ │ dell-latitude-5420        │ A         │ \u001b[32m81\u001b[0m       │ 20        │ │\n",
       "│ │ dell-latitude-5420        │ B         │ \u001b[32m74\u001b[0m       │ 20        │ │\n",
       "│ │ dell-latitude-5420        │ C         │ \u001b[32m83\u001b[0m       │ 20        │ │\n",
       "│ │ hp-elitebook-840          │ A         │ \u001b[32m78\u001b[0m       │ 20        │ │\n",
       "│ │ hp-elitebook-840          │ B         │ \u001b[32m63\u001b[0m       │ 20        │ │\n",
       "│ │ hp-elitebook-840          │ C         │ \u001b[32m59\u001b[0m       │ 20        │ │\n",
       "│ │ lenovo-thinkpad-t14       │ A         │ \u001b[32m82\u001b[0m       │ 20        │ │\n",
       "│ │ lenovo-thinkpad-t14       │ B         │ \u001b[32m79\u001b[0m       │ 20        │ │\n",
       "│ │ lenovo-thinkpad-t14       │ C         │ \u001b[32m80\u001b[0m       │ 20        │ │\n",
       "│ │ acer-aspire-5             │ A         │ \u001b[32m139\u001b[0m      │ 30        │ │\n",
       "│ │ acer-aspire-5             │ B         │ \u001b[32m144\u001b[0m      │ 30        │ │\n",
       "│ │ acer-aspire-5             │ C         │ \u001b[32m96\u001b[0m       │ 30        │ │\n",
       "│ │ asus-vivobook-15          │ A         │ \u001b[32m148\u001b[0m      │ 30        │ │\n",
       "│ │ asus-vivobook-15          │ B         │ \u001b[32m119\u001b[0m      │ 30        │ │\n",
       "│ │ asus-vivobook-15          │ C         │ \u001b[32m170\u001b[0m      │ 30        │ │\n",
       "│ │ lenovo-ideapad-3          │ A         │ \u001b[32m157\u001b[0m      │ 30        │ │\n",
       "│ │ lenovo-ideapad-3          │ B         │ \u001b[32m80\u001b[0m       │ 30        │ │\n",
       "│ │ lenovo-ideapad-3          │ C         │ \u001b[32m105\u001b[0m      │ 30        │ │\n",
       "│ └───────────────────────────┴───────────┴──────────┴───────────┘ │\n",
       "╰──────────────────────────────────────────────────────────────────╯\n"
      ]
     },
     "metadata": {},
     "output_type": "display_data"
    },
    {
     "data": {
      "text/html": [
       "<pre style=\"white-space:pre;overflow-x:auto;line-height:normal;font-family:Menlo,'DejaVu Sans Mono',consolas,'Courier New',monospace\">\n",
       "<span style=\"color: #008080; text-decoration-color: #008080; font-weight: bold\">==================================================</span>\n",
       "</pre>\n"
      ],
      "text/plain": [
       "\n",
       "\u001b[1;36m==================================================\u001b[0m\n"
      ]
     },
     "metadata": {},
     "output_type": "display_data"
    },
    {
     "data": {
      "text/html": [
       "<pre style=\"white-space:pre;overflow-x:auto;line-height:normal;font-family:Menlo,'DejaVu Sans Mono',consolas,'Courier New',monospace\"><span style=\"font-weight: bold\">Day </span><span style=\"color: #008080; text-decoration-color: #008080; font-weight: bold\">5</span><span style=\"font-weight: bold\"> of </span><span style=\"color: #008080; text-decoration-color: #008080; font-weight: bold\">7</span>\n",
       "</pre>\n"
      ],
      "text/plain": [
       "\u001b[1mDay \u001b[0m\u001b[1;36m5\u001b[0m\u001b[1m of \u001b[0m\u001b[1;36m7\u001b[0m\n"
      ]
     },
     "metadata": {},
     "output_type": "display_data"
    },
    {
     "data": {
      "text/html": [
       "<pre style=\"white-space:pre;overflow-x:auto;line-height:normal;font-family:Menlo,'DejaVu Sans Mono',consolas,'Courier New',monospace\">\n",
       "<span style=\"color: #000080; text-decoration-color: #000080; font-weight: bold\">Day Report: </span><span style=\"color: #000080; text-decoration-color: #000080; font-weight: bold\">2025</span><span style=\"color: #000080; text-decoration-color: #000080; font-weight: bold\">-</span><span style=\"color: #000080; text-decoration-color: #000080; font-weight: bold\">02</span><span style=\"color: #000080; text-decoration-color: #000080; font-weight: bold\">-</span><span style=\"color: #000080; text-decoration-color: #000080; font-weight: bold\">26</span>\n",
       "</pre>\n"
      ],
      "text/plain": [
       "\n",
       "\u001b[1;34mDay Report: \u001b[0m\u001b[1;34m2025\u001b[0m\u001b[1;34m-\u001b[0m\u001b[1;34m02\u001b[0m\u001b[1;34m-\u001b[0m\u001b[1;34m26\u001b[0m\n"
      ]
     },
     "metadata": {},
     "output_type": "display_data"
    },
    {
     "data": {
      "text/html": [
       "<pre style=\"white-space:pre;overflow-x:auto;line-height:normal;font-family:Menlo,'DejaVu Sans Mono',consolas,'Courier New',monospace\">╭───────────────── Daily Transactions ─────────────────╮\n",
       "│ ┏━━━━━━━━━━━━━━━━━━━━━━━━━━━┳━━━━━━━━━━━┳━━━━━━━━━━┓ │\n",
       "│ ┃<span style=\"color: #800080; text-decoration-color: #800080; font-weight: bold\"> Model ID                  </span>┃<span style=\"color: #800080; text-decoration-color: #800080; font-weight: bold\"> Warehouse </span>┃<span style=\"color: #800080; text-decoration-color: #800080; font-weight: bold\"> Quantity </span>┃ │\n",
       "│ ┡━━━━━━━━━━━━━━━━━━━━━━━━━━━╇━━━━━━━━━━━╇━━━━━━━━━━┩ │\n",
       "│ │ lenovo-thinkpad-x1-carbon │ C         │ -4       │ │\n",
       "│ │ hp-elitebook-840          │ B         │ -10      │ │\n",
       "│ │ lenovo-thinkpad-t14       │ C         │ -14      │ │\n",
       "│ │ asus-vivobook-15          │ C         │ -27      │ │\n",
       "│ └───────────────────────────┴───────────┴──────────┘ │\n",
       "╰──────────────────────────────────────────────────────╯\n",
       "</pre>\n"
      ],
      "text/plain": [
       "╭───────────────── Daily Transactions ─────────────────╮\n",
       "│ ┏━━━━━━━━━━━━━━━━━━━━━━━━━━━┳━━━━━━━━━━━┳━━━━━━━━━━┓ │\n",
       "│ ┃\u001b[1;35m \u001b[0m\u001b[1;35mModel ID                 \u001b[0m\u001b[1;35m \u001b[0m┃\u001b[1;35m \u001b[0m\u001b[1;35mWarehouse\u001b[0m\u001b[1;35m \u001b[0m┃\u001b[1;35m \u001b[0m\u001b[1;35mQuantity\u001b[0m\u001b[1;35m \u001b[0m┃ │\n",
       "│ ┡━━━━━━━━━━━━━━━━━━━━━━━━━━━╇━━━━━━━━━━━╇━━━━━━━━━━┩ │\n",
       "│ │ lenovo-thinkpad-x1-carbon │ C         │ -4       │ │\n",
       "│ │ hp-elitebook-840          │ B         │ -10      │ │\n",
       "│ │ lenovo-thinkpad-t14       │ C         │ -14      │ │\n",
       "│ │ asus-vivobook-15          │ C         │ -27      │ │\n",
       "│ └───────────────────────────┴───────────┴──────────┘ │\n",
       "╰──────────────────────────────────────────────────────╯\n"
      ]
     },
     "metadata": {},
     "output_type": "display_data"
    },
    {
     "data": {
      "text/html": [
       "<pre style=\"white-space:pre;overflow-x:auto;line-height:normal;font-family:Menlo,'DejaVu Sans Mono',consolas,'Courier New',monospace\">╭────────────────────── Current Stock Levels ──────────────────────╮\n",
       "│ ┏━━━━━━━━━━━━━━━━━━━━━━━━━━━┳━━━━━━━━━━━┳━━━━━━━━━━┳━━━━━━━━━━━┓ │\n",
       "│ ┃<span style=\"color: #008000; text-decoration-color: #008000; font-weight: bold\"> Model ID                  </span>┃<span style=\"color: #008000; text-decoration-color: #008000; font-weight: bold\"> Warehouse </span>┃<span style=\"color: #008000; text-decoration-color: #008000; font-weight: bold\"> Quantity </span>┃<span style=\"color: #008000; text-decoration-color: #008000; font-weight: bold\"> Min Stock </span>┃ │\n",
       "│ ┡━━━━━━━━━━━━━━━━━━━━━━━━━━━╇━━━━━━━━━━━╇━━━━━━━━━━╇━━━━━━━━━━━┩ │\n",
       "│ │ apple-macbook-pro-16      │ A         │ <span style=\"color: #008000; text-decoration-color: #008000\">40</span>       │ 10        │ │\n",
       "│ │ apple-macbook-pro-16      │ B         │ <span style=\"color: #008000; text-decoration-color: #008000\">26</span>       │ 10        │ │\n",
       "│ │ apple-macbook-pro-16      │ C         │ <span style=\"color: #008000; text-decoration-color: #008000\">39</span>       │ 10        │ │\n",
       "│ │ dell-xps-15               │ A         │ <span style=\"color: #008000; text-decoration-color: #008000\">39</span>       │ 10        │ │\n",
       "│ │ dell-xps-15               │ B         │ <span style=\"color: #008000; text-decoration-color: #008000\">27</span>       │ 10        │ │\n",
       "│ │ dell-xps-15               │ C         │ <span style=\"color: #008000; text-decoration-color: #008000\">29</span>       │ 10        │ │\n",
       "│ │ lenovo-thinkpad-x1-carbon │ A         │ <span style=\"color: #008000; text-decoration-color: #008000\">42</span>       │ 10        │ │\n",
       "│ │ lenovo-thinkpad-x1-carbon │ B         │ <span style=\"color: #008000; text-decoration-color: #008000\">36</span>       │ 10        │ │\n",
       "│ │ lenovo-thinkpad-x1-carbon │ C         │ <span style=\"color: #008000; text-decoration-color: #008000\">37</span>       │ 10        │ │\n",
       "│ │ dell-latitude-5420        │ A         │ <span style=\"color: #008000; text-decoration-color: #008000\">81</span>       │ 20        │ │\n",
       "│ │ dell-latitude-5420        │ B         │ <span style=\"color: #008000; text-decoration-color: #008000\">74</span>       │ 20        │ │\n",
       "│ │ dell-latitude-5420        │ C         │ <span style=\"color: #008000; text-decoration-color: #008000\">83</span>       │ 20        │ │\n",
       "│ │ hp-elitebook-840          │ A         │ <span style=\"color: #008000; text-decoration-color: #008000\">78</span>       │ 20        │ │\n",
       "│ │ hp-elitebook-840          │ B         │ <span style=\"color: #008000; text-decoration-color: #008000\">53</span>       │ 20        │ │\n",
       "│ │ hp-elitebook-840          │ C         │ <span style=\"color: #008000; text-decoration-color: #008000\">59</span>       │ 20        │ │\n",
       "│ │ lenovo-thinkpad-t14       │ A         │ <span style=\"color: #008000; text-decoration-color: #008000\">82</span>       │ 20        │ │\n",
       "│ │ lenovo-thinkpad-t14       │ B         │ <span style=\"color: #008000; text-decoration-color: #008000\">79</span>       │ 20        │ │\n",
       "│ │ lenovo-thinkpad-t14       │ C         │ <span style=\"color: #008000; text-decoration-color: #008000\">66</span>       │ 20        │ │\n",
       "│ │ acer-aspire-5             │ A         │ <span style=\"color: #008000; text-decoration-color: #008000\">139</span>      │ 30        │ │\n",
       "│ │ acer-aspire-5             │ B         │ <span style=\"color: #008000; text-decoration-color: #008000\">144</span>      │ 30        │ │\n",
       "│ │ acer-aspire-5             │ C         │ <span style=\"color: #008000; text-decoration-color: #008000\">96</span>       │ 30        │ │\n",
       "│ │ asus-vivobook-15          │ A         │ <span style=\"color: #008000; text-decoration-color: #008000\">148</span>      │ 30        │ │\n",
       "│ │ asus-vivobook-15          │ B         │ <span style=\"color: #008000; text-decoration-color: #008000\">119</span>      │ 30        │ │\n",
       "│ │ asus-vivobook-15          │ C         │ <span style=\"color: #008000; text-decoration-color: #008000\">143</span>      │ 30        │ │\n",
       "│ │ lenovo-ideapad-3          │ A         │ <span style=\"color: #008000; text-decoration-color: #008000\">157</span>      │ 30        │ │\n",
       "│ │ lenovo-ideapad-3          │ B         │ <span style=\"color: #008000; text-decoration-color: #008000\">80</span>       │ 30        │ │\n",
       "│ │ lenovo-ideapad-3          │ C         │ <span style=\"color: #008000; text-decoration-color: #008000\">105</span>      │ 30        │ │\n",
       "│ └───────────────────────────┴───────────┴──────────┴───────────┘ │\n",
       "╰──────────────────────────────────────────────────────────────────╯\n",
       "</pre>\n"
      ],
      "text/plain": [
       "╭────────────────────── Current Stock Levels ──────────────────────╮\n",
       "│ ┏━━━━━━━━━━━━━━━━━━━━━━━━━━━┳━━━━━━━━━━━┳━━━━━━━━━━┳━━━━━━━━━━━┓ │\n",
       "│ ┃\u001b[1;32m \u001b[0m\u001b[1;32mModel ID                 \u001b[0m\u001b[1;32m \u001b[0m┃\u001b[1;32m \u001b[0m\u001b[1;32mWarehouse\u001b[0m\u001b[1;32m \u001b[0m┃\u001b[1;32m \u001b[0m\u001b[1;32mQuantity\u001b[0m\u001b[1;32m \u001b[0m┃\u001b[1;32m \u001b[0m\u001b[1;32mMin Stock\u001b[0m\u001b[1;32m \u001b[0m┃ │\n",
       "│ ┡━━━━━━━━━━━━━━━━━━━━━━━━━━━╇━━━━━━━━━━━╇━━━━━━━━━━╇━━━━━━━━━━━┩ │\n",
       "│ │ apple-macbook-pro-16      │ A         │ \u001b[32m40\u001b[0m       │ 10        │ │\n",
       "│ │ apple-macbook-pro-16      │ B         │ \u001b[32m26\u001b[0m       │ 10        │ │\n",
       "│ │ apple-macbook-pro-16      │ C         │ \u001b[32m39\u001b[0m       │ 10        │ │\n",
       "│ │ dell-xps-15               │ A         │ \u001b[32m39\u001b[0m       │ 10        │ │\n",
       "│ │ dell-xps-15               │ B         │ \u001b[32m27\u001b[0m       │ 10        │ │\n",
       "│ │ dell-xps-15               │ C         │ \u001b[32m29\u001b[0m       │ 10        │ │\n",
       "│ │ lenovo-thinkpad-x1-carbon │ A         │ \u001b[32m42\u001b[0m       │ 10        │ │\n",
       "│ │ lenovo-thinkpad-x1-carbon │ B         │ \u001b[32m36\u001b[0m       │ 10        │ │\n",
       "│ │ lenovo-thinkpad-x1-carbon │ C         │ \u001b[32m37\u001b[0m       │ 10        │ │\n",
       "│ │ dell-latitude-5420        │ A         │ \u001b[32m81\u001b[0m       │ 20        │ │\n",
       "│ │ dell-latitude-5420        │ B         │ \u001b[32m74\u001b[0m       │ 20        │ │\n",
       "│ │ dell-latitude-5420        │ C         │ \u001b[32m83\u001b[0m       │ 20        │ │\n",
       "│ │ hp-elitebook-840          │ A         │ \u001b[32m78\u001b[0m       │ 20        │ │\n",
       "│ │ hp-elitebook-840          │ B         │ \u001b[32m53\u001b[0m       │ 20        │ │\n",
       "│ │ hp-elitebook-840          │ C         │ \u001b[32m59\u001b[0m       │ 20        │ │\n",
       "│ │ lenovo-thinkpad-t14       │ A         │ \u001b[32m82\u001b[0m       │ 20        │ │\n",
       "│ │ lenovo-thinkpad-t14       │ B         │ \u001b[32m79\u001b[0m       │ 20        │ │\n",
       "│ │ lenovo-thinkpad-t14       │ C         │ \u001b[32m66\u001b[0m       │ 20        │ │\n",
       "│ │ acer-aspire-5             │ A         │ \u001b[32m139\u001b[0m      │ 30        │ │\n",
       "│ │ acer-aspire-5             │ B         │ \u001b[32m144\u001b[0m      │ 30        │ │\n",
       "│ │ acer-aspire-5             │ C         │ \u001b[32m96\u001b[0m       │ 30        │ │\n",
       "│ │ asus-vivobook-15          │ A         │ \u001b[32m148\u001b[0m      │ 30        │ │\n",
       "│ │ asus-vivobook-15          │ B         │ \u001b[32m119\u001b[0m      │ 30        │ │\n",
       "│ │ asus-vivobook-15          │ C         │ \u001b[32m143\u001b[0m      │ 30        │ │\n",
       "│ │ lenovo-ideapad-3          │ A         │ \u001b[32m157\u001b[0m      │ 30        │ │\n",
       "│ │ lenovo-ideapad-3          │ B         │ \u001b[32m80\u001b[0m       │ 30        │ │\n",
       "│ │ lenovo-ideapad-3          │ C         │ \u001b[32m105\u001b[0m      │ 30        │ │\n",
       "│ └───────────────────────────┴───────────┴──────────┴───────────┘ │\n",
       "╰──────────────────────────────────────────────────────────────────╯\n"
      ]
     },
     "metadata": {},
     "output_type": "display_data"
    },
    {
     "data": {
      "text/html": [
       "<pre style=\"white-space:pre;overflow-x:auto;line-height:normal;font-family:Menlo,'DejaVu Sans Mono',consolas,'Courier New',monospace\">\n",
       "<span style=\"color: #008080; text-decoration-color: #008080; font-weight: bold\">==================================================</span>\n",
       "</pre>\n"
      ],
      "text/plain": [
       "\n",
       "\u001b[1;36m==================================================\u001b[0m\n"
      ]
     },
     "metadata": {},
     "output_type": "display_data"
    },
    {
     "data": {
      "text/html": [
       "<pre style=\"white-space:pre;overflow-x:auto;line-height:normal;font-family:Menlo,'DejaVu Sans Mono',consolas,'Courier New',monospace\"><span style=\"font-weight: bold\">Day </span><span style=\"color: #008080; text-decoration-color: #008080; font-weight: bold\">6</span><span style=\"font-weight: bold\"> of </span><span style=\"color: #008080; text-decoration-color: #008080; font-weight: bold\">7</span>\n",
       "</pre>\n"
      ],
      "text/plain": [
       "\u001b[1mDay \u001b[0m\u001b[1;36m6\u001b[0m\u001b[1m of \u001b[0m\u001b[1;36m7\u001b[0m\n"
      ]
     },
     "metadata": {},
     "output_type": "display_data"
    },
    {
     "data": {
      "text/html": [
       "<pre style=\"white-space:pre;overflow-x:auto;line-height:normal;font-family:Menlo,'DejaVu Sans Mono',consolas,'Courier New',monospace\">\n",
       "<span style=\"color: #000080; text-decoration-color: #000080; font-weight: bold\">Day Report: </span><span style=\"color: #000080; text-decoration-color: #000080; font-weight: bold\">2025</span><span style=\"color: #000080; text-decoration-color: #000080; font-weight: bold\">-</span><span style=\"color: #000080; text-decoration-color: #000080; font-weight: bold\">02</span><span style=\"color: #000080; text-decoration-color: #000080; font-weight: bold\">-</span><span style=\"color: #000080; text-decoration-color: #000080; font-weight: bold\">27</span>\n",
       "</pre>\n"
      ],
      "text/plain": [
       "\n",
       "\u001b[1;34mDay Report: \u001b[0m\u001b[1;34m2025\u001b[0m\u001b[1;34m-\u001b[0m\u001b[1;34m02\u001b[0m\u001b[1;34m-\u001b[0m\u001b[1;34m27\u001b[0m\n"
      ]
     },
     "metadata": {},
     "output_type": "display_data"
    },
    {
     "data": {
      "text/html": [
       "<pre style=\"white-space:pre;overflow-x:auto;line-height:normal;font-family:Menlo,'DejaVu Sans Mono',consolas,'Courier New',monospace\">╭────────────── Daily Transactions ───────────────╮\n",
       "│ ┏━━━━━━━━━━━━━━━━━━━━━━┳━━━━━━━━━━━┳━━━━━━━━━━┓ │\n",
       "│ ┃<span style=\"color: #800080; text-decoration-color: #800080; font-weight: bold\"> Model ID             </span>┃<span style=\"color: #800080; text-decoration-color: #800080; font-weight: bold\"> Warehouse </span>┃<span style=\"color: #800080; text-decoration-color: #800080; font-weight: bold\"> Quantity </span>┃ │\n",
       "│ ┡━━━━━━━━━━━━━━━━━━━━━━╇━━━━━━━━━━━╇━━━━━━━━━━┩ │\n",
       "│ │ apple-macbook-pro-16 │ A         │ -3       │ │\n",
       "│ │ hp-elitebook-840     │ B         │ -12      │ │\n",
       "│ │ lenovo-thinkpad-t14  │ C         │ -5       │ │\n",
       "│ │ acer-aspire-5        │ B         │ -13      │ │\n",
       "│ │ lenovo-ideapad-3     │ C         │ -17      │ │\n",
       "│ └──────────────────────┴───────────┴──────────┘ │\n",
       "╰─────────────────────────────────────────────────╯\n",
       "</pre>\n"
      ],
      "text/plain": [
       "╭────────────── Daily Transactions ───────────────╮\n",
       "│ ┏━━━━━━━━━━━━━━━━━━━━━━┳━━━━━━━━━━━┳━━━━━━━━━━┓ │\n",
       "│ ┃\u001b[1;35m \u001b[0m\u001b[1;35mModel ID            \u001b[0m\u001b[1;35m \u001b[0m┃\u001b[1;35m \u001b[0m\u001b[1;35mWarehouse\u001b[0m\u001b[1;35m \u001b[0m┃\u001b[1;35m \u001b[0m\u001b[1;35mQuantity\u001b[0m\u001b[1;35m \u001b[0m┃ │\n",
       "│ ┡━━━━━━━━━━━━━━━━━━━━━━╇━━━━━━━━━━━╇━━━━━━━━━━┩ │\n",
       "│ │ apple-macbook-pro-16 │ A         │ -3       │ │\n",
       "│ │ hp-elitebook-840     │ B         │ -12      │ │\n",
       "│ │ lenovo-thinkpad-t14  │ C         │ -5       │ │\n",
       "│ │ acer-aspire-5        │ B         │ -13      │ │\n",
       "│ │ lenovo-ideapad-3     │ C         │ -17      │ │\n",
       "│ └──────────────────────┴───────────┴──────────┘ │\n",
       "╰─────────────────────────────────────────────────╯\n"
      ]
     },
     "metadata": {},
     "output_type": "display_data"
    },
    {
     "data": {
      "text/html": [
       "<pre style=\"white-space:pre;overflow-x:auto;line-height:normal;font-family:Menlo,'DejaVu Sans Mono',consolas,'Courier New',monospace\">╭────────────────────── Current Stock Levels ──────────────────────╮\n",
       "│ ┏━━━━━━━━━━━━━━━━━━━━━━━━━━━┳━━━━━━━━━━━┳━━━━━━━━━━┳━━━━━━━━━━━┓ │\n",
       "│ ┃<span style=\"color: #008000; text-decoration-color: #008000; font-weight: bold\"> Model ID                  </span>┃<span style=\"color: #008000; text-decoration-color: #008000; font-weight: bold\"> Warehouse </span>┃<span style=\"color: #008000; text-decoration-color: #008000; font-weight: bold\"> Quantity </span>┃<span style=\"color: #008000; text-decoration-color: #008000; font-weight: bold\"> Min Stock </span>┃ │\n",
       "│ ┡━━━━━━━━━━━━━━━━━━━━━━━━━━━╇━━━━━━━━━━━╇━━━━━━━━━━╇━━━━━━━━━━━┩ │\n",
       "│ │ apple-macbook-pro-16      │ A         │ <span style=\"color: #008000; text-decoration-color: #008000\">37</span>       │ 10        │ │\n",
       "│ │ apple-macbook-pro-16      │ B         │ <span style=\"color: #008000; text-decoration-color: #008000\">26</span>       │ 10        │ │\n",
       "│ │ apple-macbook-pro-16      │ C         │ <span style=\"color: #008000; text-decoration-color: #008000\">39</span>       │ 10        │ │\n",
       "│ │ dell-xps-15               │ A         │ <span style=\"color: #008000; text-decoration-color: #008000\">39</span>       │ 10        │ │\n",
       "│ │ dell-xps-15               │ B         │ <span style=\"color: #008000; text-decoration-color: #008000\">27</span>       │ 10        │ │\n",
       "│ │ dell-xps-15               │ C         │ <span style=\"color: #008000; text-decoration-color: #008000\">29</span>       │ 10        │ │\n",
       "│ │ lenovo-thinkpad-x1-carbon │ A         │ <span style=\"color: #008000; text-decoration-color: #008000\">42</span>       │ 10        │ │\n",
       "│ │ lenovo-thinkpad-x1-carbon │ B         │ <span style=\"color: #008000; text-decoration-color: #008000\">36</span>       │ 10        │ │\n",
       "│ │ lenovo-thinkpad-x1-carbon │ C         │ <span style=\"color: #008000; text-decoration-color: #008000\">37</span>       │ 10        │ │\n",
       "│ │ dell-latitude-5420        │ A         │ <span style=\"color: #008000; text-decoration-color: #008000\">81</span>       │ 20        │ │\n",
       "│ │ dell-latitude-5420        │ B         │ <span style=\"color: #008000; text-decoration-color: #008000\">74</span>       │ 20        │ │\n",
       "│ │ dell-latitude-5420        │ C         │ <span style=\"color: #008000; text-decoration-color: #008000\">83</span>       │ 20        │ │\n",
       "│ │ hp-elitebook-840          │ A         │ <span style=\"color: #008000; text-decoration-color: #008000\">78</span>       │ 20        │ │\n",
       "│ │ hp-elitebook-840          │ B         │ <span style=\"color: #008000; text-decoration-color: #008000\">41</span>       │ 20        │ │\n",
       "│ │ hp-elitebook-840          │ C         │ <span style=\"color: #008000; text-decoration-color: #008000\">59</span>       │ 20        │ │\n",
       "│ │ lenovo-thinkpad-t14       │ A         │ <span style=\"color: #008000; text-decoration-color: #008000\">82</span>       │ 20        │ │\n",
       "│ │ lenovo-thinkpad-t14       │ B         │ <span style=\"color: #008000; text-decoration-color: #008000\">79</span>       │ 20        │ │\n",
       "│ │ lenovo-thinkpad-t14       │ C         │ <span style=\"color: #008000; text-decoration-color: #008000\">61</span>       │ 20        │ │\n",
       "│ │ acer-aspire-5             │ A         │ <span style=\"color: #008000; text-decoration-color: #008000\">139</span>      │ 30        │ │\n",
       "│ │ acer-aspire-5             │ B         │ <span style=\"color: #008000; text-decoration-color: #008000\">131</span>      │ 30        │ │\n",
       "│ │ acer-aspire-5             │ C         │ <span style=\"color: #008000; text-decoration-color: #008000\">96</span>       │ 30        │ │\n",
       "│ │ asus-vivobook-15          │ A         │ <span style=\"color: #008000; text-decoration-color: #008000\">148</span>      │ 30        │ │\n",
       "│ │ asus-vivobook-15          │ B         │ <span style=\"color: #008000; text-decoration-color: #008000\">119</span>      │ 30        │ │\n",
       "│ │ asus-vivobook-15          │ C         │ <span style=\"color: #008000; text-decoration-color: #008000\">143</span>      │ 30        │ │\n",
       "│ │ lenovo-ideapad-3          │ A         │ <span style=\"color: #008000; text-decoration-color: #008000\">157</span>      │ 30        │ │\n",
       "│ │ lenovo-ideapad-3          │ B         │ <span style=\"color: #008000; text-decoration-color: #008000\">80</span>       │ 30        │ │\n",
       "│ │ lenovo-ideapad-3          │ C         │ <span style=\"color: #008000; text-decoration-color: #008000\">88</span>       │ 30        │ │\n",
       "│ └───────────────────────────┴───────────┴──────────┴───────────┘ │\n",
       "╰──────────────────────────────────────────────────────────────────╯\n",
       "</pre>\n"
      ],
      "text/plain": [
       "╭────────────────────── Current Stock Levels ──────────────────────╮\n",
       "│ ┏━━━━━━━━━━━━━━━━━━━━━━━━━━━┳━━━━━━━━━━━┳━━━━━━━━━━┳━━━━━━━━━━━┓ │\n",
       "│ ┃\u001b[1;32m \u001b[0m\u001b[1;32mModel ID                 \u001b[0m\u001b[1;32m \u001b[0m┃\u001b[1;32m \u001b[0m\u001b[1;32mWarehouse\u001b[0m\u001b[1;32m \u001b[0m┃\u001b[1;32m \u001b[0m\u001b[1;32mQuantity\u001b[0m\u001b[1;32m \u001b[0m┃\u001b[1;32m \u001b[0m\u001b[1;32mMin Stock\u001b[0m\u001b[1;32m \u001b[0m┃ │\n",
       "│ ┡━━━━━━━━━━━━━━━━━━━━━━━━━━━╇━━━━━━━━━━━╇━━━━━━━━━━╇━━━━━━━━━━━┩ │\n",
       "│ │ apple-macbook-pro-16      │ A         │ \u001b[32m37\u001b[0m       │ 10        │ │\n",
       "│ │ apple-macbook-pro-16      │ B         │ \u001b[32m26\u001b[0m       │ 10        │ │\n",
       "│ │ apple-macbook-pro-16      │ C         │ \u001b[32m39\u001b[0m       │ 10        │ │\n",
       "│ │ dell-xps-15               │ A         │ \u001b[32m39\u001b[0m       │ 10        │ │\n",
       "│ │ dell-xps-15               │ B         │ \u001b[32m27\u001b[0m       │ 10        │ │\n",
       "│ │ dell-xps-15               │ C         │ \u001b[32m29\u001b[0m       │ 10        │ │\n",
       "│ │ lenovo-thinkpad-x1-carbon │ A         │ \u001b[32m42\u001b[0m       │ 10        │ │\n",
       "│ │ lenovo-thinkpad-x1-carbon │ B         │ \u001b[32m36\u001b[0m       │ 10        │ │\n",
       "│ │ lenovo-thinkpad-x1-carbon │ C         │ \u001b[32m37\u001b[0m       │ 10        │ │\n",
       "│ │ dell-latitude-5420        │ A         │ \u001b[32m81\u001b[0m       │ 20        │ │\n",
       "│ │ dell-latitude-5420        │ B         │ \u001b[32m74\u001b[0m       │ 20        │ │\n",
       "│ │ dell-latitude-5420        │ C         │ \u001b[32m83\u001b[0m       │ 20        │ │\n",
       "│ │ hp-elitebook-840          │ A         │ \u001b[32m78\u001b[0m       │ 20        │ │\n",
       "│ │ hp-elitebook-840          │ B         │ \u001b[32m41\u001b[0m       │ 20        │ │\n",
       "│ │ hp-elitebook-840          │ C         │ \u001b[32m59\u001b[0m       │ 20        │ │\n",
       "│ │ lenovo-thinkpad-t14       │ A         │ \u001b[32m82\u001b[0m       │ 20        │ │\n",
       "│ │ lenovo-thinkpad-t14       │ B         │ \u001b[32m79\u001b[0m       │ 20        │ │\n",
       "│ │ lenovo-thinkpad-t14       │ C         │ \u001b[32m61\u001b[0m       │ 20        │ │\n",
       "│ │ acer-aspire-5             │ A         │ \u001b[32m139\u001b[0m      │ 30        │ │\n",
       "│ │ acer-aspire-5             │ B         │ \u001b[32m131\u001b[0m      │ 30        │ │\n",
       "│ │ acer-aspire-5             │ C         │ \u001b[32m96\u001b[0m       │ 30        │ │\n",
       "│ │ asus-vivobook-15          │ A         │ \u001b[32m148\u001b[0m      │ 30        │ │\n",
       "│ │ asus-vivobook-15          │ B         │ \u001b[32m119\u001b[0m      │ 30        │ │\n",
       "│ │ asus-vivobook-15          │ C         │ \u001b[32m143\u001b[0m      │ 30        │ │\n",
       "│ │ lenovo-ideapad-3          │ A         │ \u001b[32m157\u001b[0m      │ 30        │ │\n",
       "│ │ lenovo-ideapad-3          │ B         │ \u001b[32m80\u001b[0m       │ 30        │ │\n",
       "│ │ lenovo-ideapad-3          │ C         │ \u001b[32m88\u001b[0m       │ 30        │ │\n",
       "│ └───────────────────────────┴───────────┴──────────┴───────────┘ │\n",
       "╰──────────────────────────────────────────────────────────────────╯\n"
      ]
     },
     "metadata": {},
     "output_type": "display_data"
    },
    {
     "data": {
      "text/html": [
       "<pre style=\"white-space:pre;overflow-x:auto;line-height:normal;font-family:Menlo,'DejaVu Sans Mono',consolas,'Courier New',monospace\">\n",
       "<span style=\"color: #008080; text-decoration-color: #008080; font-weight: bold\">==================================================</span>\n",
       "</pre>\n"
      ],
      "text/plain": [
       "\n",
       "\u001b[1;36m==================================================\u001b[0m\n"
      ]
     },
     "metadata": {},
     "output_type": "display_data"
    },
    {
     "data": {
      "text/html": [
       "<pre style=\"white-space:pre;overflow-x:auto;line-height:normal;font-family:Menlo,'DejaVu Sans Mono',consolas,'Courier New',monospace\"><span style=\"font-weight: bold\">Day </span><span style=\"color: #008080; text-decoration-color: #008080; font-weight: bold\">7</span><span style=\"font-weight: bold\"> of </span><span style=\"color: #008080; text-decoration-color: #008080; font-weight: bold\">7</span>\n",
       "</pre>\n"
      ],
      "text/plain": [
       "\u001b[1mDay \u001b[0m\u001b[1;36m7\u001b[0m\u001b[1m of \u001b[0m\u001b[1;36m7\u001b[0m\n"
      ]
     },
     "metadata": {},
     "output_type": "display_data"
    },
    {
     "data": {
      "text/html": [
       "<pre style=\"white-space:pre;overflow-x:auto;line-height:normal;font-family:Menlo,'DejaVu Sans Mono',consolas,'Courier New',monospace\">\n",
       "<span style=\"color: #000080; text-decoration-color: #000080; font-weight: bold\">Day Report: </span><span style=\"color: #000080; text-decoration-color: #000080; font-weight: bold\">2025</span><span style=\"color: #000080; text-decoration-color: #000080; font-weight: bold\">-</span><span style=\"color: #000080; text-decoration-color: #000080; font-weight: bold\">02</span><span style=\"color: #000080; text-decoration-color: #000080; font-weight: bold\">-</span><span style=\"color: #000080; text-decoration-color: #000080; font-weight: bold\">28</span>\n",
       "</pre>\n"
      ],
      "text/plain": [
       "\n",
       "\u001b[1;34mDay Report: \u001b[0m\u001b[1;34m2025\u001b[0m\u001b[1;34m-\u001b[0m\u001b[1;34m02\u001b[0m\u001b[1;34m-\u001b[0m\u001b[1;34m28\u001b[0m\n"
      ]
     },
     "metadata": {},
     "output_type": "display_data"
    },
    {
     "data": {
      "text/html": [
       "<pre style=\"white-space:pre;overflow-x:auto;line-height:normal;font-family:Menlo,'DejaVu Sans Mono',consolas,'Courier New',monospace\">╭───────────────── Daily Transactions ─────────────────╮\n",
       "│ ┏━━━━━━━━━━━━━━━━━━━━━━━━━━━┳━━━━━━━━━━━┳━━━━━━━━━━┓ │\n",
       "│ ┃<span style=\"color: #800080; text-decoration-color: #800080; font-weight: bold\"> Model ID                  </span>┃<span style=\"color: #800080; text-decoration-color: #800080; font-weight: bold\"> Warehouse </span>┃<span style=\"color: #800080; text-decoration-color: #800080; font-weight: bold\"> Quantity </span>┃ │\n",
       "│ ┡━━━━━━━━━━━━━━━━━━━━━━━━━━━╇━━━━━━━━━━━╇━━━━━━━━━━┩ │\n",
       "│ │ lenovo-thinkpad-x1-carbon │ B         │ -2       │ │\n",
       "│ │ dell-latitude-5420        │ A         │ -10      │ │\n",
       "│ │ hp-elitebook-840          │ C         │ -7       │ │\n",
       "│ │ lenovo-thinkpad-t14       │ C         │ -10      │ │\n",
       "│ │ acer-aspire-5             │ C         │ -16      │ │\n",
       "│ └───────────────────────────┴───────────┴──────────┘ │\n",
       "╰──────────────────────────────────────────────────────╯\n",
       "</pre>\n"
      ],
      "text/plain": [
       "╭───────────────── Daily Transactions ─────────────────╮\n",
       "│ ┏━━━━━━━━━━━━━━━━━━━━━━━━━━━┳━━━━━━━━━━━┳━━━━━━━━━━┓ │\n",
       "│ ┃\u001b[1;35m \u001b[0m\u001b[1;35mModel ID                 \u001b[0m\u001b[1;35m \u001b[0m┃\u001b[1;35m \u001b[0m\u001b[1;35mWarehouse\u001b[0m\u001b[1;35m \u001b[0m┃\u001b[1;35m \u001b[0m\u001b[1;35mQuantity\u001b[0m\u001b[1;35m \u001b[0m┃ │\n",
       "│ ┡━━━━━━━━━━━━━━━━━━━━━━━━━━━╇━━━━━━━━━━━╇━━━━━━━━━━┩ │\n",
       "│ │ lenovo-thinkpad-x1-carbon │ B         │ -2       │ │\n",
       "│ │ dell-latitude-5420        │ A         │ -10      │ │\n",
       "│ │ hp-elitebook-840          │ C         │ -7       │ │\n",
       "│ │ lenovo-thinkpad-t14       │ C         │ -10      │ │\n",
       "│ │ acer-aspire-5             │ C         │ -16      │ │\n",
       "│ └───────────────────────────┴───────────┴──────────┘ │\n",
       "╰──────────────────────────────────────────────────────╯\n"
      ]
     },
     "metadata": {},
     "output_type": "display_data"
    },
    {
     "data": {
      "text/html": [
       "<pre style=\"white-space:pre;overflow-x:auto;line-height:normal;font-family:Menlo,'DejaVu Sans Mono',consolas,'Courier New',monospace\">╭────────────────────── Current Stock Levels ──────────────────────╮\n",
       "│ ┏━━━━━━━━━━━━━━━━━━━━━━━━━━━┳━━━━━━━━━━━┳━━━━━━━━━━┳━━━━━━━━━━━┓ │\n",
       "│ ┃<span style=\"color: #008000; text-decoration-color: #008000; font-weight: bold\"> Model ID                  </span>┃<span style=\"color: #008000; text-decoration-color: #008000; font-weight: bold\"> Warehouse </span>┃<span style=\"color: #008000; text-decoration-color: #008000; font-weight: bold\"> Quantity </span>┃<span style=\"color: #008000; text-decoration-color: #008000; font-weight: bold\"> Min Stock </span>┃ │\n",
       "│ ┡━━━━━━━━━━━━━━━━━━━━━━━━━━━╇━━━━━━━━━━━╇━━━━━━━━━━╇━━━━━━━━━━━┩ │\n",
       "│ │ apple-macbook-pro-16      │ A         │ <span style=\"color: #008000; text-decoration-color: #008000\">37</span>       │ 10        │ │\n",
       "│ │ apple-macbook-pro-16      │ B         │ <span style=\"color: #008000; text-decoration-color: #008000\">26</span>       │ 10        │ │\n",
       "│ │ apple-macbook-pro-16      │ C         │ <span style=\"color: #008000; text-decoration-color: #008000\">39</span>       │ 10        │ │\n",
       "│ │ dell-xps-15               │ A         │ <span style=\"color: #008000; text-decoration-color: #008000\">39</span>       │ 10        │ │\n",
       "│ │ dell-xps-15               │ B         │ <span style=\"color: #008000; text-decoration-color: #008000\">27</span>       │ 10        │ │\n",
       "│ │ dell-xps-15               │ C         │ <span style=\"color: #008000; text-decoration-color: #008000\">29</span>       │ 10        │ │\n",
       "│ │ lenovo-thinkpad-x1-carbon │ A         │ <span style=\"color: #008000; text-decoration-color: #008000\">42</span>       │ 10        │ │\n",
       "│ │ lenovo-thinkpad-x1-carbon │ B         │ <span style=\"color: #008000; text-decoration-color: #008000\">34</span>       │ 10        │ │\n",
       "│ │ lenovo-thinkpad-x1-carbon │ C         │ <span style=\"color: #008000; text-decoration-color: #008000\">37</span>       │ 10        │ │\n",
       "│ │ dell-latitude-5420        │ A         │ <span style=\"color: #008000; text-decoration-color: #008000\">71</span>       │ 20        │ │\n",
       "│ │ dell-latitude-5420        │ B         │ <span style=\"color: #008000; text-decoration-color: #008000\">74</span>       │ 20        │ │\n",
       "│ │ dell-latitude-5420        │ C         │ <span style=\"color: #008000; text-decoration-color: #008000\">83</span>       │ 20        │ │\n",
       "│ │ hp-elitebook-840          │ A         │ <span style=\"color: #008000; text-decoration-color: #008000\">78</span>       │ 20        │ │\n",
       "│ │ hp-elitebook-840          │ B         │ <span style=\"color: #008000; text-decoration-color: #008000\">41</span>       │ 20        │ │\n",
       "│ │ hp-elitebook-840          │ C         │ <span style=\"color: #008000; text-decoration-color: #008000\">52</span>       │ 20        │ │\n",
       "│ │ lenovo-thinkpad-t14       │ A         │ <span style=\"color: #008000; text-decoration-color: #008000\">82</span>       │ 20        │ │\n",
       "│ │ lenovo-thinkpad-t14       │ B         │ <span style=\"color: #008000; text-decoration-color: #008000\">79</span>       │ 20        │ │\n",
       "│ │ lenovo-thinkpad-t14       │ C         │ <span style=\"color: #008000; text-decoration-color: #008000\">51</span>       │ 20        │ │\n",
       "│ │ acer-aspire-5             │ A         │ <span style=\"color: #008000; text-decoration-color: #008000\">139</span>      │ 30        │ │\n",
       "│ │ acer-aspire-5             │ B         │ <span style=\"color: #008000; text-decoration-color: #008000\">131</span>      │ 30        │ │\n",
       "│ │ acer-aspire-5             │ C         │ <span style=\"color: #008000; text-decoration-color: #008000\">80</span>       │ 30        │ │\n",
       "│ │ asus-vivobook-15          │ A         │ <span style=\"color: #008000; text-decoration-color: #008000\">148</span>      │ 30        │ │\n",
       "│ │ asus-vivobook-15          │ B         │ <span style=\"color: #008000; text-decoration-color: #008000\">119</span>      │ 30        │ │\n",
       "│ │ asus-vivobook-15          │ C         │ <span style=\"color: #008000; text-decoration-color: #008000\">143</span>      │ 30        │ │\n",
       "│ │ lenovo-ideapad-3          │ A         │ <span style=\"color: #008000; text-decoration-color: #008000\">157</span>      │ 30        │ │\n",
       "│ │ lenovo-ideapad-3          │ B         │ <span style=\"color: #008000; text-decoration-color: #008000\">80</span>       │ 30        │ │\n",
       "│ │ lenovo-ideapad-3          │ C         │ <span style=\"color: #008000; text-decoration-color: #008000\">88</span>       │ 30        │ │\n",
       "│ └───────────────────────────┴───────────┴──────────┴───────────┘ │\n",
       "╰──────────────────────────────────────────────────────────────────╯\n",
       "</pre>\n"
      ],
      "text/plain": [
       "╭────────────────────── Current Stock Levels ──────────────────────╮\n",
       "│ ┏━━━━━━━━━━━━━━━━━━━━━━━━━━━┳━━━━━━━━━━━┳━━━━━━━━━━┳━━━━━━━━━━━┓ │\n",
       "│ ┃\u001b[1;32m \u001b[0m\u001b[1;32mModel ID                 \u001b[0m\u001b[1;32m \u001b[0m┃\u001b[1;32m \u001b[0m\u001b[1;32mWarehouse\u001b[0m\u001b[1;32m \u001b[0m┃\u001b[1;32m \u001b[0m\u001b[1;32mQuantity\u001b[0m\u001b[1;32m \u001b[0m┃\u001b[1;32m \u001b[0m\u001b[1;32mMin Stock\u001b[0m\u001b[1;32m \u001b[0m┃ │\n",
       "│ ┡━━━━━━━━━━━━━━━━━━━━━━━━━━━╇━━━━━━━━━━━╇━━━━━━━━━━╇━━━━━━━━━━━┩ │\n",
       "│ │ apple-macbook-pro-16      │ A         │ \u001b[32m37\u001b[0m       │ 10        │ │\n",
       "│ │ apple-macbook-pro-16      │ B         │ \u001b[32m26\u001b[0m       │ 10        │ │\n",
       "│ │ apple-macbook-pro-16      │ C         │ \u001b[32m39\u001b[0m       │ 10        │ │\n",
       "│ │ dell-xps-15               │ A         │ \u001b[32m39\u001b[0m       │ 10        │ │\n",
       "│ │ dell-xps-15               │ B         │ \u001b[32m27\u001b[0m       │ 10        │ │\n",
       "│ │ dell-xps-15               │ C         │ \u001b[32m29\u001b[0m       │ 10        │ │\n",
       "│ │ lenovo-thinkpad-x1-carbon │ A         │ \u001b[32m42\u001b[0m       │ 10        │ │\n",
       "│ │ lenovo-thinkpad-x1-carbon │ B         │ \u001b[32m34\u001b[0m       │ 10        │ │\n",
       "│ │ lenovo-thinkpad-x1-carbon │ C         │ \u001b[32m37\u001b[0m       │ 10        │ │\n",
       "│ │ dell-latitude-5420        │ A         │ \u001b[32m71\u001b[0m       │ 20        │ │\n",
       "│ │ dell-latitude-5420        │ B         │ \u001b[32m74\u001b[0m       │ 20        │ │\n",
       "│ │ dell-latitude-5420        │ C         │ \u001b[32m83\u001b[0m       │ 20        │ │\n",
       "│ │ hp-elitebook-840          │ A         │ \u001b[32m78\u001b[0m       │ 20        │ │\n",
       "│ │ hp-elitebook-840          │ B         │ \u001b[32m41\u001b[0m       │ 20        │ │\n",
       "│ │ hp-elitebook-840          │ C         │ \u001b[32m52\u001b[0m       │ 20        │ │\n",
       "│ │ lenovo-thinkpad-t14       │ A         │ \u001b[32m82\u001b[0m       │ 20        │ │\n",
       "│ │ lenovo-thinkpad-t14       │ B         │ \u001b[32m79\u001b[0m       │ 20        │ │\n",
       "│ │ lenovo-thinkpad-t14       │ C         │ \u001b[32m51\u001b[0m       │ 20        │ │\n",
       "│ │ acer-aspire-5             │ A         │ \u001b[32m139\u001b[0m      │ 30        │ │\n",
       "│ │ acer-aspire-5             │ B         │ \u001b[32m131\u001b[0m      │ 30        │ │\n",
       "│ │ acer-aspire-5             │ C         │ \u001b[32m80\u001b[0m       │ 30        │ │\n",
       "│ │ asus-vivobook-15          │ A         │ \u001b[32m148\u001b[0m      │ 30        │ │\n",
       "│ │ asus-vivobook-15          │ B         │ \u001b[32m119\u001b[0m      │ 30        │ │\n",
       "│ │ asus-vivobook-15          │ C         │ \u001b[32m143\u001b[0m      │ 30        │ │\n",
       "│ │ lenovo-ideapad-3          │ A         │ \u001b[32m157\u001b[0m      │ 30        │ │\n",
       "│ │ lenovo-ideapad-3          │ B         │ \u001b[32m80\u001b[0m       │ 30        │ │\n",
       "│ │ lenovo-ideapad-3          │ C         │ \u001b[32m88\u001b[0m       │ 30        │ │\n",
       "│ └───────────────────────────┴───────────┴──────────┴───────────┘ │\n",
       "╰──────────────────────────────────────────────────────────────────╯\n"
      ]
     },
     "metadata": {},
     "output_type": "display_data"
    }
   ],
   "source": [
    "sim.run_simulation(days=7)  # Run for 7 days"
   ]
  },
  {
   "cell_type": "code",
   "execution_count": null,
   "metadata": {},
   "outputs": [],
   "source": []
  }
 ],
 "metadata": {
  "kernelspec": {
   "display_name": ".venv",
   "language": "python",
   "name": "python3"
  },
  "language_info": {
   "codemirror_mode": {
    "name": "ipython",
    "version": 3
   },
   "file_extension": ".py",
   "mimetype": "text/x-python",
   "name": "python",
   "nbconvert_exporter": "python",
   "pygments_lexer": "ipython3",
   "version": "3.11.11"
  }
 },
 "nbformat": 4,
 "nbformat_minor": 2
}
